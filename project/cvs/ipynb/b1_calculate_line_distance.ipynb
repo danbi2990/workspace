{
 "cells": [
  {
   "cell_type": "markdown",
   "metadata": {},
   "source": [
    "# Preparation"
   ]
  },
  {
   "cell_type": "code",
   "execution_count": 1,
   "metadata": {},
   "outputs": [],
   "source": [
    "from itertools import combinations\n",
    "from math import sin, cos, sqrt, atan2, radians\n",
    "\n",
    "import pandas as pd\n",
    "import numpy as np\n",
    "from tqdm import tqdm_notebook\n",
    "\n",
    "import matplotlib.pyplot as plt\n",
    "from scipy.cluster.vq import kmeans2, whiten\n",
    "\n",
    "from db.mongo import MyMongo"
   ]
  },
  {
   "cell_type": "code",
   "execution_count": 2,
   "metadata": {},
   "outputs": [
    {
     "name": "stdout",
     "output_type": "stream",
     "text": [
      "<--Mongo Connected.\n",
      "Mongo Connection Closed.-->\n"
     ]
    }
   ],
   "source": [
    "with MyMongo() as db:\n",
    "    cvs = db.get_df_from_table('cvs', 'cvs')"
   ]
  },
  {
   "cell_type": "markdown",
   "metadata": {},
   "source": [
    "# Function"
   ]
  },
  {
   "cell_type": "code",
   "execution_count": 3,
   "metadata": {},
   "outputs": [],
   "source": [
    "def get_distance_from_coords(lat1, lon1, lat2, lon2):\n",
    "    # approximate radius of earth in km\n",
    "    R = 6371.0\n",
    "\n",
    "    lat1 = radians(lat1)\n",
    "    lon1 = radians(lon1)\n",
    "    lat2 = radians(lat2)\n",
    "    lon2 = radians(lon2)\n",
    "    dlon = lon2 - lon1\n",
    "    dlat = lat2 - lat1\n",
    "\n",
    "    a = sin(dlat / 2)**2 + cos(lat1) * cos(lat2) * sin(dlon / 2)**2\n",
    "    c = 2 * atan2(sqrt(a), sqrt(1 - a))\n",
    "    distance = R * c * 1000\n",
    "    return distance"
   ]
  },
  {
   "cell_type": "code",
   "execution_count": 4,
   "metadata": {},
   "outputs": [
    {
     "data": {
      "text/html": [
       "<div>\n",
       "<style scoped>\n",
       "    .dataframe tbody tr th:only-of-type {\n",
       "        vertical-align: middle;\n",
       "    }\n",
       "\n",
       "    .dataframe tbody tr th {\n",
       "        vertical-align: top;\n",
       "    }\n",
       "\n",
       "    .dataframe thead th {\n",
       "        text-align: right;\n",
       "    }\n",
       "</style>\n",
       "<table border=\"1\" class=\"dataframe\">\n",
       "  <thead>\n",
       "    <tr style=\"text-align: right;\">\n",
       "      <th></th>\n",
       "      <th>_id</th>\n",
       "      <th>lat</th>\n",
       "      <th>lng</th>\n",
       "      <th>개방서비스ID</th>\n",
       "      <th>개방서비스명</th>\n",
       "      <th>개방자치단체코드</th>\n",
       "      <th>관리번호</th>\n",
       "      <th>데이터갱신구분</th>\n",
       "      <th>데이터갱신일자</th>\n",
       "      <th>도로명우편번호</th>\n",
       "      <th>...</th>\n",
       "      <th>인허가일자</th>\n",
       "      <th>인허가취소일자</th>\n",
       "      <th>재개업일자</th>\n",
       "      <th>좌표정보(X)</th>\n",
       "      <th>좌표정보(Y)</th>\n",
       "      <th>지정일자</th>\n",
       "      <th>최종수정시점</th>\n",
       "      <th>폐업일자</th>\n",
       "      <th>휴업시작일자</th>\n",
       "      <th>휴업종료일자</th>\n",
       "    </tr>\n",
       "  </thead>\n",
       "  <tbody>\n",
       "    <tr>\n",
       "      <th>0</th>\n",
       "      <td>5c08bec59085ca65eac3dbc9</td>\n",
       "      <td>37.57559556952654</td>\n",
       "      <td>126.98582687874092</td>\n",
       "      <td>11_43_02_P</td>\n",
       "      <td>담배소매업</td>\n",
       "      <td>3000000</td>\n",
       "      <td>2006300010105600037</td>\n",
       "      <td>I</td>\n",
       "      <td>2018-08-31 23:59:59.0</td>\n",
       "      <td>NaN</td>\n",
       "      <td>...</td>\n",
       "      <td>20060921</td>\n",
       "      <td>NaN</td>\n",
       "      <td>NaN</td>\n",
       "      <td>198658.943470079</td>\n",
       "      <td>452604.254902527</td>\n",
       "      <td>NaN</td>\n",
       "      <td>20080221000000</td>\n",
       "      <td>NaN</td>\n",
       "      <td>NaN</td>\n",
       "      <td>NaN</td>\n",
       "    </tr>\n",
       "  </tbody>\n",
       "</table>\n",
       "<p>1 rows × 33 columns</p>\n",
       "</div>"
      ],
      "text/plain": [
       "                        _id                lat                 lng  \\\n",
       "0  5c08bec59085ca65eac3dbc9  37.57559556952654  126.98582687874092   \n",
       "\n",
       "      개방서비스ID 개방서비스명 개방자치단체코드                 관리번호 데이터갱신구분  \\\n",
       "0  11_43_02_P  담배소매업  3000000  2006300010105600037       I   \n",
       "\n",
       "                 데이터갱신일자 도로명우편번호  ...       인허가일자 인허가취소일자 재개업일자  \\\n",
       "0  2018-08-31 23:59:59.0     NaN  ...    20060921     NaN   NaN   \n",
       "\n",
       "            좌표정보(X)           좌표정보(Y) 지정일자          최종수정시점 폐업일자 휴업시작일자 휴업종료일자  \n",
       "0  198658.943470079  452604.254902527  NaN  20080221000000  NaN    NaN    NaN  \n",
       "\n",
       "[1 rows x 33 columns]"
      ]
     },
     "execution_count": 4,
     "metadata": {},
     "output_type": "execute_result"
    }
   ],
   "source": [
    "idx_lat_empty = cvs['lat'].isna()\n",
    "cvs.loc[~idx_lat_empty].head(1)"
   ]
  },
  {
   "cell_type": "code",
   "execution_count": 5,
   "metadata": {},
   "outputs": [
    {
     "name": "stdout",
     "output_type": "stream",
     "text": [
      "Index(['_id', 'lat', 'lng', '개방서비스ID', '개방서비스명', '개방자치단체코드', '관리번호', '데이터갱신구분',\n",
      "       '데이터갱신일자', '도로명우편번호', '도로명전체주소', '민원종류명', '번호', '사업장명', '상세영업상태명',\n",
      "       '상세영업상태코드', '소재지면적', '소재지우편번호', '소재지전체주소', '소재지전화', '업태구분명', '영업상태구분코드',\n",
      "       '영업상태명', '인허가일자', '인허가취소일자', '재개업일자', '좌표정보(X)', '좌표정보(Y)', '지정일자',\n",
      "       '최종수정시점', '폐업일자', '휴업시작일자', '휴업종료일자'],\n",
      "      dtype='object')\n"
     ]
    },
    {
     "data": {
      "text/plain": [
       "80666"
      ]
     },
     "execution_count": 5,
     "metadata": {},
     "output_type": "execute_result"
    }
   ],
   "source": [
    "print(cvs.columns)\n",
    "len(cvs.loc[~idx_lat_empty])"
   ]
  },
  {
   "cell_type": "code",
   "execution_count": 6,
   "metadata": {},
   "outputs": [],
   "source": [
    "pd.set_option('display.max_columns', None)\n",
    "cols = ['lat', 'lng', '관리번호', '사업장명', '상세영업상태명', '도로명전체주소']\n",
    "cvs.loc[~idx_lat_empty, cols].head(1)\n",
    "\n",
    "cvs['도로명전체주소'] = cvs['도로명전체주소'].fillna('')\n",
    "\n",
    "idx_blank = cvs['도로명전체주소']==''\n",
    "idx_seoul = cvs['도로명전체주소'].str.contains('서울')\n",
    "idx_busan = cvs['도로명전체주소'].str.contains('부산')\n",
    "idx_daegu = cvs['도로명전체주소'].str.contains('대구')\n",
    "idx_incheon = cvs['도로명전체주소'].str.contains('인천')\n",
    "idx_ulsan = cvs['도로명전체주소'].str.contains('울산')\n",
    "idx_gwangju = cvs['도로명전체주소'].str.contains('광주')\n",
    "idx_daejeon = cvs['도로명전체주소'].str.contains('대전')\n",
    "idx_jeju = cvs['도로명전체주소'].str.contains('제주')\n",
    "idx_sejong = cvs['도로명전체주소'].str.contains('세종')\n",
    "idx_kyungki = cvs['도로명전체주소'].str.contains('경기')\n",
    "idx_gangwon = cvs['도로명전체주소'].str.contains('강원')\n",
    "idx_cb = cvs['도로명전체주소'].str.contains('충청북도') | cvs['도로명전체주소'].str.contains('충북')\n",
    "idx_cn = cvs['도로명전체주소'].str.contains('충청남도') | cvs['도로명전체주소'].str.contains('충남')\n",
    "idx_jb = cvs['도로명전체주소'].str.contains('전라북도') | cvs['도로명전체주소'].str.contains('전북')\n",
    "idx_jn = cvs['도로명전체주소'].str.contains('전라남도') | cvs['도로명전체주소'].str.contains('전남')\n",
    "idx_kb = cvs['도로명전체주소'].str.contains('경상북도') | cvs['도로명전체주소'].str.contains('경북')\n",
    "idx_kn = cvs['도로명전체주소'].str.contains('경상남도') | cvs['도로명전체주소'].str.contains('경남')\n",
    "\n",
    "idx_all = idx_blank| idx_seoul| idx_busan| idx_daegu| idx_incheon| idx_ulsan| idx_gwangju| idx_daejeon| idx_jeju| idx_sejong| idx_kyungki|\\\n",
    "            idx_gangwon| idx_cb| idx_cn| idx_jb| idx_jn| idx_kb| idx_kn\n",
    "\n",
    "idx_regions = [idx_seoul, idx_busan, idx_daegu, idx_incheon, idx_ulsan, idx_gwangju, idx_daejeon, idx_jeju, idx_sejong, idx_kyungki,\n",
    "               idx_gangwon, idx_cb, idx_cn, idx_jb, idx_jn, idx_kb, idx_kn,]\n",
    "idx_regions = [idx_blank |idx  for idx in idx_regions]\n",
    "\n",
    "# idx_ = cvs['도로명전체주소'].str.contains('')\n",
    "# idx_ = cvs['도로명전체주소'].str.contains('')\n",
    "# idx_ = cvs['도로명전체주소'].str.contains('')\n",
    "\n",
    "\n",
    "\n",
    "\n"
   ]
  },
  {
   "cell_type": "code",
   "execution_count": 7,
   "metadata": {},
   "outputs": [
    {
     "name": "stdout",
     "output_type": "stream",
     "text": [
      "81607\n",
      "81607\n",
      "16539\n"
     ]
    },
    {
     "data": {
      "text/html": [
       "<div>\n",
       "<style scoped>\n",
       "    .dataframe tbody tr th:only-of-type {\n",
       "        vertical-align: middle;\n",
       "    }\n",
       "\n",
       "    .dataframe tbody tr th {\n",
       "        vertical-align: top;\n",
       "    }\n",
       "\n",
       "    .dataframe thead th {\n",
       "        text-align: right;\n",
       "    }\n",
       "</style>\n",
       "<table border=\"1\" class=\"dataframe\">\n",
       "  <thead>\n",
       "    <tr style=\"text-align: right;\">\n",
       "      <th></th>\n",
       "      <th>lat</th>\n",
       "      <th>lng</th>\n",
       "      <th>관리번호</th>\n",
       "      <th>사업장명</th>\n",
       "      <th>상세영업상태명</th>\n",
       "      <th>도로명전체주소</th>\n",
       "    </tr>\n",
       "  </thead>\n",
       "  <tbody>\n",
       "  </tbody>\n",
       "</table>\n",
       "</div>"
      ],
      "text/plain": [
       "Empty DataFrame\n",
       "Columns: [lat, lng, 관리번호, 사업장명, 상세영업상태명, 도로명전체주소]\n",
       "Index: []"
      ]
     },
     "execution_count": 7,
     "metadata": {},
     "output_type": "execute_result"
    }
   ],
   "source": [
    "print(len(cvs))\n",
    "print(len(cvs.loc[idx_all, cols]))\n",
    "print(len(cvs.loc[idx_seoul, cols]))\n",
    "\n",
    "cvs.loc[~idx_all, cols].head(3)\n",
    "\n",
    "# len(cvs.loc[cvs['도로명전체주소'].isna()])"
   ]
  },
  {
   "cell_type": "code",
   "execution_count": 8,
   "metadata": {},
   "outputs": [
    {
     "name": "stdout",
     "output_type": "stream",
     "text": [
      "1921\n"
     ]
    }
   ],
   "source": [
    "print(len(cvs.loc[idx_jeju]))"
   ]
  },
  {
   "cell_type": "markdown",
   "metadata": {
    "heading_collapsed": true
   },
   "source": [
    "# kmeans"
   ]
  },
  {
   "cell_type": "code",
   "execution_count": 9,
   "metadata": {
    "hidden": true
   },
   "outputs": [],
   "source": [
    "# coordinates = np.array(cvs.loc[~idx_lat_empty & idx_busan, ['lat', 'lng']].astype(float))\n",
    "# print(len(coordinates))\n",
    "# # print(whiten(coordinates))\n",
    "\n",
    "# x, y = kmeans2(whiten(coordinates), 3, iter = 20)\n",
    "# plt.scatter(coordinates[:,0], coordinates[:,1], c=y);\n",
    "# plt.show()"
   ]
  },
  {
   "cell_type": "code",
   "execution_count": 10,
   "metadata": {
    "hidden": true
   },
   "outputs": [],
   "source": [
    "# y"
   ]
  },
  {
   "cell_type": "markdown",
   "metadata": {},
   "source": [
    "# geohash"
   ]
  },
  {
   "cell_type": "code",
   "execution_count": 11,
   "metadata": {},
   "outputs": [
    {
     "name": "stdout",
     "output_type": "stream",
     "text": [
      "wydmc8km8nxq ['2006300010105600037', '2006300007605600015']\n",
      "wydmf1bkwpyb ['1999300007605600150']\n",
      "wydmc255070b ['2007300010105600043']\n"
     ]
    }
   ],
   "source": [
    "import pygeohash as pgh\n",
    "from collections import defaultdict\n",
    "\n",
    "geos = np.array(cvs.loc[~idx_lat_empty, ['관리번호', 'lat', 'lng', '사업장명']])\n",
    "# len(geos)\n",
    "geo_hash_list = [(pgh.encode(float(g[1]), float(g[2])), g[0]) for g in geos]\n",
    "\n",
    "geo_hash_table = defaultdict(list)\n",
    "\n",
    "for g in geo_hash_list:\n",
    "    geo_hash_table[g[0]].append(g[1])\n",
    "\n",
    "i = 0\n",
    "for k, v in geo_hash_table.items():\n",
    "    if i == 3:\n",
    "        break\n",
    "    i += 1\n",
    "    print(k, v)\n",
    "    \n",
    "# print(geo_hash_list[0])\n",
    "# print(geo_hash_table[:3])\n",
    "\n",
    "# pgh.geohash_approximate_distance(hashes[0], hashes[1])\n",
    "# pgh.geohash_haversine_distance(hashes[4], hashes[1])\n",
    "# 118, 19"
   ]
  },
  {
   "cell_type": "code",
   "execution_count": 12,
   "metadata": {},
   "outputs": [],
   "source": [
    "geos[:3]\n",
    "id_geo = {}\n",
    "for g in geos:\n",
    "    id_geo[g[0]] = (float(g[1]), float(g[2]), g[3])"
   ]
  },
  {
   "cell_type": "code",
   "execution_count": 13,
   "metadata": {},
   "outputs": [
    {
     "name": "stdout",
     "output_type": "stream",
     "text": [
      "2006300010105600037 (37.57559556952654, 126.98582687874092, '세븐일레븐 종로허브점')\n",
      "1999300007605600150 (37.58366929825265, 127.0025632117959, 'GS25동숭점')\n",
      "2007300010105600043 (37.573773352199254, 126.97312606247175, '이마트24 광화문시대점')\n"
     ]
    }
   ],
   "source": [
    "i = 0\n",
    "for k, v in id_geo.items():\n",
    "    if i == 3:\n",
    "        break\n",
    "    i += 1\n",
    "    print(k, v)"
   ]
  },
  {
   "cell_type": "code",
   "execution_count": 14,
   "metadata": {},
   "outputs": [
    {
     "data": {
      "text/html": [
       "<div>\n",
       "<style scoped>\n",
       "    .dataframe tbody tr th:only-of-type {\n",
       "        vertical-align: middle;\n",
       "    }\n",
       "\n",
       "    .dataframe tbody tr th {\n",
       "        vertical-align: top;\n",
       "    }\n",
       "\n",
       "    .dataframe thead th {\n",
       "        text-align: right;\n",
       "    }\n",
       "</style>\n",
       "<table border=\"1\" class=\"dataframe\">\n",
       "  <thead>\n",
       "    <tr style=\"text-align: right;\">\n",
       "      <th></th>\n",
       "      <th>geohash</th>\n",
       "      <th>관리번호</th>\n",
       "    </tr>\n",
       "  </thead>\n",
       "  <tbody>\n",
       "    <tr>\n",
       "      <th>0</th>\n",
       "      <td>wydmc8km8nxq</td>\n",
       "      <td>2006300010105600037</td>\n",
       "    </tr>\n",
       "    <tr>\n",
       "      <th>1</th>\n",
       "      <td>wydmf1bkwpyb</td>\n",
       "      <td>1999300007605600150</td>\n",
       "    </tr>\n",
       "  </tbody>\n",
       "</table>\n",
       "</div>"
      ],
      "text/plain": [
       "        geohash                 관리번호\n",
       "0  wydmc8km8nxq  2006300010105600037\n",
       "1  wydmf1bkwpyb  1999300007605600150"
      ]
     },
     "execution_count": 14,
     "metadata": {},
     "output_type": "execute_result"
    }
   ],
   "source": [
    "tmp = pd.DataFrame(columns=['geohash', '관리번호'], data=geo_hash_list); tmp.head(2)"
   ]
  },
  {
   "cell_type": "code",
   "execution_count": 15,
   "metadata": {
    "scrolled": true
   },
   "outputs": [
    {
     "data": {
      "text/html": [
       "<div>\n",
       "<style scoped>\n",
       "    .dataframe tbody tr th:only-of-type {\n",
       "        vertical-align: middle;\n",
       "    }\n",
       "\n",
       "    .dataframe tbody tr th {\n",
       "        vertical-align: top;\n",
       "    }\n",
       "\n",
       "    .dataframe thead th {\n",
       "        text-align: right;\n",
       "    }\n",
       "</style>\n",
       "<table border=\"1\" class=\"dataframe\">\n",
       "  <thead>\n",
       "    <tr style=\"text-align: right;\">\n",
       "      <th></th>\n",
       "      <th>관리번호</th>\n",
       "    </tr>\n",
       "    <tr>\n",
       "      <th>geohash</th>\n",
       "      <th></th>\n",
       "    </tr>\n",
       "  </thead>\n",
       "  <tbody>\n",
       "    <tr>\n",
       "      <th>wvctpu8rcr9d</th>\n",
       "      <td>1</td>\n",
       "    </tr>\n",
       "    <tr>\n",
       "      <th>wvctrq31gdnr</th>\n",
       "      <td>2</td>\n",
       "    </tr>\n",
       "    <tr>\n",
       "      <th>wvctrq929gn2</th>\n",
       "      <td>3</td>\n",
       "    </tr>\n",
       "    <tr>\n",
       "      <th>wvctrqdye8t1</th>\n",
       "      <td>1</td>\n",
       "    </tr>\n",
       "    <tr>\n",
       "      <th>wvctwfrq30zp</th>\n",
       "      <td>1</td>\n",
       "    </tr>\n",
       "    <tr>\n",
       "      <th>wvctxr5v3q3n</th>\n",
       "      <td>3</td>\n",
       "    </tr>\n",
       "    <tr>\n",
       "      <th>wvctxrw1ysrn</th>\n",
       "      <td>1</td>\n",
       "    </tr>\n",
       "    <tr>\n",
       "      <th>wvctz9e0ndp8</th>\n",
       "      <td>1</td>\n",
       "    </tr>\n",
       "    <tr>\n",
       "      <th>wvcu3kbxg3rn</th>\n",
       "      <td>1</td>\n",
       "    </tr>\n",
       "    <tr>\n",
       "      <th>wvcu3m2cqju7</th>\n",
       "      <td>1</td>\n",
       "    </tr>\n",
       "    <tr>\n",
       "      <th>wvcubyur5rz4</th>\n",
       "      <td>1</td>\n",
       "    </tr>\n",
       "    <tr>\n",
       "      <th>wvcubyvfup58</th>\n",
       "      <td>1</td>\n",
       "    </tr>\n",
       "    <tr>\n",
       "      <th>wvcubyvvpkmv</th>\n",
       "      <td>1</td>\n",
       "    </tr>\n",
       "    <tr>\n",
       "      <th>wvcubztf0p09</th>\n",
       "      <td>2</td>\n",
       "    </tr>\n",
       "    <tr>\n",
       "      <th>wvcubzxr90pk</th>\n",
       "      <td>2</td>\n",
       "    </tr>\n",
       "    <tr>\n",
       "      <th>wvcubzzh7b2x</th>\n",
       "      <td>1</td>\n",
       "    </tr>\n",
       "    <tr>\n",
       "      <th>wvcucn181bxz</th>\n",
       "      <td>1</td>\n",
       "    </tr>\n",
       "    <tr>\n",
       "      <th>wvcucn9b68ht</th>\n",
       "      <td>3</td>\n",
       "    </tr>\n",
       "    <tr>\n",
       "      <th>wvcucpdb9fgn</th>\n",
       "      <td>1</td>\n",
       "    </tr>\n",
       "    <tr>\n",
       "      <th>wvcucv62utr4</th>\n",
       "      <td>2</td>\n",
       "    </tr>\n",
       "    <tr>\n",
       "      <th>wvcucvd81mrx</th>\n",
       "      <td>1</td>\n",
       "    </tr>\n",
       "    <tr>\n",
       "      <th>wvcv07fsvkdb</th>\n",
       "      <td>1</td>\n",
       "    </tr>\n",
       "    <tr>\n",
       "      <th>wvcv0bds8kek</th>\n",
       "      <td>1</td>\n",
       "    </tr>\n",
       "    <tr>\n",
       "      <th>wvcv0bjuqdnq</th>\n",
       "      <td>1</td>\n",
       "    </tr>\n",
       "    <tr>\n",
       "      <th>wvcv0byjec4y</th>\n",
       "      <td>1</td>\n",
       "    </tr>\n",
       "    <tr>\n",
       "      <th>wvcv0byt3zfg</th>\n",
       "      <td>1</td>\n",
       "    </tr>\n",
       "    <tr>\n",
       "      <th>wvcv0dbw7cdq</th>\n",
       "      <td>1</td>\n",
       "    </tr>\n",
       "    <tr>\n",
       "      <th>wvcv104eccxz</th>\n",
       "      <td>1</td>\n",
       "    </tr>\n",
       "    <tr>\n",
       "      <th>wvcv10924cu6</th>\n",
       "      <td>3</td>\n",
       "    </tr>\n",
       "    <tr>\n",
       "      <th>wvcv1cw45sn5</th>\n",
       "      <td>1</td>\n",
       "    </tr>\n",
       "    <tr>\n",
       "      <th>...</th>\n",
       "      <td>...</td>\n",
       "    </tr>\n",
       "    <tr>\n",
       "      <th>wys42w7wrxe7</th>\n",
       "      <td>1</td>\n",
       "    </tr>\n",
       "    <tr>\n",
       "      <th>wys42w7zzssm</th>\n",
       "      <td>1</td>\n",
       "    </tr>\n",
       "    <tr>\n",
       "      <th>wys42wm1u48v</th>\n",
       "      <td>3</td>\n",
       "    </tr>\n",
       "    <tr>\n",
       "      <th>wys42wmzre8f</th>\n",
       "      <td>1</td>\n",
       "    </tr>\n",
       "    <tr>\n",
       "      <th>wys42wszmrsn</th>\n",
       "      <td>1</td>\n",
       "    </tr>\n",
       "    <tr>\n",
       "      <th>wys42x5kctfq</th>\n",
       "      <td>1</td>\n",
       "    </tr>\n",
       "    <tr>\n",
       "      <th>wys42x7kzxed</th>\n",
       "      <td>1</td>\n",
       "    </tr>\n",
       "    <tr>\n",
       "      <th>wys42xhrevn4</th>\n",
       "      <td>1</td>\n",
       "    </tr>\n",
       "    <tr>\n",
       "      <th>wys48fe0ky9z</th>\n",
       "      <td>1</td>\n",
       "    </tr>\n",
       "    <tr>\n",
       "      <th>wys48ygbw5tm</th>\n",
       "      <td>2</td>\n",
       "    </tr>\n",
       "    <tr>\n",
       "      <th>wys48ygbw97u</th>\n",
       "      <td>1</td>\n",
       "    </tr>\n",
       "    <tr>\n",
       "      <th>wys48zdzs8r6</th>\n",
       "      <td>1</td>\n",
       "    </tr>\n",
       "    <tr>\n",
       "      <th>wys4bgtfbs91</th>\n",
       "      <td>1</td>\n",
       "    </tr>\n",
       "    <tr>\n",
       "      <th>wys4bgw0z2yw</th>\n",
       "      <td>1</td>\n",
       "    </tr>\n",
       "    <tr>\n",
       "      <th>wys4bgxh2gen</th>\n",
       "      <td>2</td>\n",
       "    </tr>\n",
       "    <tr>\n",
       "      <th>wys4bt5jvsgf</th>\n",
       "      <td>1</td>\n",
       "    </tr>\n",
       "    <tr>\n",
       "      <th>wys4bt748e3y</th>\n",
       "      <td>1</td>\n",
       "    </tr>\n",
       "    <tr>\n",
       "      <th>wys4c42uv1n6</th>\n",
       "      <td>1</td>\n",
       "    </tr>\n",
       "    <tr>\n",
       "      <th>wys4c435tvqu</th>\n",
       "      <td>1</td>\n",
       "    </tr>\n",
       "    <tr>\n",
       "      <th>wys4c43x569n</th>\n",
       "      <td>1</td>\n",
       "    </tr>\n",
       "    <tr>\n",
       "      <th>wys4c47j2scq</th>\n",
       "      <td>1</td>\n",
       "    </tr>\n",
       "    <tr>\n",
       "      <th>wys4c4ce60qz</th>\n",
       "      <td>1</td>\n",
       "    </tr>\n",
       "    <tr>\n",
       "      <th>wys4c5b46xxw</th>\n",
       "      <td>1</td>\n",
       "    </tr>\n",
       "    <tr>\n",
       "      <th>wytj4zer11r6</th>\n",
       "      <td>1</td>\n",
       "    </tr>\n",
       "    <tr>\n",
       "      <th>wytj4zm9cq0f</th>\n",
       "      <td>1</td>\n",
       "    </tr>\n",
       "    <tr>\n",
       "      <th>wytj4zs2rt1d</th>\n",
       "      <td>1</td>\n",
       "    </tr>\n",
       "    <tr>\n",
       "      <th>wytj4zsdrbdv</th>\n",
       "      <td>1</td>\n",
       "    </tr>\n",
       "    <tr>\n",
       "      <th>wytj6cm141p0</th>\n",
       "      <td>2</td>\n",
       "    </tr>\n",
       "    <tr>\n",
       "      <th>wytj6cm25kmj</th>\n",
       "      <td>1</td>\n",
       "    </tr>\n",
       "    <tr>\n",
       "      <th>wytj70hsbswu</th>\n",
       "      <td>1</td>\n",
       "    </tr>\n",
       "  </tbody>\n",
       "</table>\n",
       "<p>50774 rows × 1 columns</p>\n",
       "</div>"
      ],
      "text/plain": [
       "              관리번호\n",
       "geohash           \n",
       "wvctpu8rcr9d     1\n",
       "wvctrq31gdnr     2\n",
       "wvctrq929gn2     3\n",
       "wvctrqdye8t1     1\n",
       "wvctwfrq30zp     1\n",
       "wvctxr5v3q3n     3\n",
       "wvctxrw1ysrn     1\n",
       "wvctz9e0ndp8     1\n",
       "wvcu3kbxg3rn     1\n",
       "wvcu3m2cqju7     1\n",
       "wvcubyur5rz4     1\n",
       "wvcubyvfup58     1\n",
       "wvcubyvvpkmv     1\n",
       "wvcubztf0p09     2\n",
       "wvcubzxr90pk     2\n",
       "wvcubzzh7b2x     1\n",
       "wvcucn181bxz     1\n",
       "wvcucn9b68ht     3\n",
       "wvcucpdb9fgn     1\n",
       "wvcucv62utr4     2\n",
       "wvcucvd81mrx     1\n",
       "wvcv07fsvkdb     1\n",
       "wvcv0bds8kek     1\n",
       "wvcv0bjuqdnq     1\n",
       "wvcv0byjec4y     1\n",
       "wvcv0byt3zfg     1\n",
       "wvcv0dbw7cdq     1\n",
       "wvcv104eccxz     1\n",
       "wvcv10924cu6     3\n",
       "wvcv1cw45sn5     1\n",
       "...            ...\n",
       "wys42w7wrxe7     1\n",
       "wys42w7zzssm     1\n",
       "wys42wm1u48v     3\n",
       "wys42wmzre8f     1\n",
       "wys42wszmrsn     1\n",
       "wys42x5kctfq     1\n",
       "wys42x7kzxed     1\n",
       "wys42xhrevn4     1\n",
       "wys48fe0ky9z     1\n",
       "wys48ygbw5tm     2\n",
       "wys48ygbw97u     1\n",
       "wys48zdzs8r6     1\n",
       "wys4bgtfbs91     1\n",
       "wys4bgw0z2yw     1\n",
       "wys4bgxh2gen     2\n",
       "wys4bt5jvsgf     1\n",
       "wys4bt748e3y     1\n",
       "wys4c42uv1n6     1\n",
       "wys4c435tvqu     1\n",
       "wys4c43x569n     1\n",
       "wys4c47j2scq     1\n",
       "wys4c4ce60qz     1\n",
       "wys4c5b46xxw     1\n",
       "wytj4zer11r6     1\n",
       "wytj4zm9cq0f     1\n",
       "wytj4zs2rt1d     1\n",
       "wytj4zsdrbdv     1\n",
       "wytj6cm141p0     2\n",
       "wytj6cm25kmj     1\n",
       "wytj70hsbswu     1\n",
       "\n",
       "[50774 rows x 1 columns]"
      ]
     },
     "execution_count": 15,
     "metadata": {},
     "output_type": "execute_result"
    }
   ],
   "source": [
    "tmp.groupby('geohash').count()"
   ]
  },
  {
   "cell_type": "code",
   "execution_count": 16,
   "metadata": {},
   "outputs": [
    {
     "data": {
      "text/plain": [
       "<itertools.combinations at 0x7f146647a598>"
      ]
     },
     "execution_count": 16,
     "metadata": {},
     "output_type": "execute_result"
    }
   ],
   "source": [
    "hashes = [g[0] for g in geo_hash_list]\n",
    "comb_hash = combinations(hashes, 2)\n",
    "comb_hash\n",
    "\n",
    "# for idx_region in idx_regions:\n",
    "#     ids = cvs.loc[~idx_lat_empty & idx_region]['관리번호'].tolist()\n",
    "#     print(len(ids))\n",
    "#     comb_list.append(combinations(ids, 2))\n",
    "\n",
    "# print(comb_list)"
   ]
  },
  {
   "cell_type": "code",
   "execution_count": 17,
   "metadata": {},
   "outputs": [],
   "source": [
    "result_hash = []\n",
    "\n",
    "for c in comb_hash:\n",
    "    d = pgh.geohash_approximate_distance(c[0], c[1])\n",
    "    if d < 200:\n",
    "        result_hash.append(c)\n"
   ]
  },
  {
   "cell_type": "code",
   "execution_count": 18,
   "metadata": {},
   "outputs": [
    {
     "data": {
      "text/plain": [
       "99179"
      ]
     },
     "execution_count": 18,
     "metadata": {},
     "output_type": "execute_result"
    }
   ],
   "source": [
    "len(result_hash)\n",
    "# prev: 60588"
   ]
  },
  {
   "cell_type": "code",
   "execution_count": 19,
   "metadata": {},
   "outputs": [
    {
     "name": "stdout",
     "output_type": "stream",
     "text": [
      "99179\n",
      "43378\n",
      "18651\n"
     ]
    },
    {
     "data": {
      "text/html": [
       "<div>\n",
       "<style scoped>\n",
       "    .dataframe tbody tr th:only-of-type {\n",
       "        vertical-align: middle;\n",
       "    }\n",
       "\n",
       "    .dataframe tbody tr th {\n",
       "        vertical-align: top;\n",
       "    }\n",
       "\n",
       "    .dataframe thead th {\n",
       "        text-align: right;\n",
       "    }\n",
       "</style>\n",
       "<table border=\"1\" class=\"dataframe\">\n",
       "  <thead>\n",
       "    <tr style=\"text-align: right;\">\n",
       "      <th></th>\n",
       "      <th>src</th>\n",
       "      <th>dst</th>\n",
       "    </tr>\n",
       "  </thead>\n",
       "  <tbody>\n",
       "    <tr>\n",
       "      <th>1</th>\n",
       "      <td>wydmf1bkwpyb</td>\n",
       "      <td>wydmf1b673r1</td>\n",
       "    </tr>\n",
       "  </tbody>\n",
       "</table>\n",
       "</div>"
      ],
      "text/plain": [
       "            src           dst\n",
       "1  wydmf1bkwpyb  wydmf1b673r1"
      ]
     },
     "execution_count": 19,
     "metadata": {},
     "output_type": "execute_result"
    }
   ],
   "source": [
    "src_dst = pd.DataFrame(columns=['src', 'dst'], data=result_hash)\n",
    "print(len(src_dst))\n",
    "src_dst.drop(src_dst[(src_dst['src']==src_dst['dst'])].index, inplace=True)\n",
    "print(len(src_dst))\n",
    "src_dst.drop_duplicates(inplace=True)\n",
    "print(len(src_dst))\n",
    "src_dst.head(1)\n",
    "\n",
    "# prev: 60588, 24296, 12251"
   ]
  },
  {
   "cell_type": "code",
   "execution_count": 20,
   "metadata": {},
   "outputs": [],
   "source": [
    "result_ids = []\n",
    "i = 0\n",
    "for idx, row in src_dst.iterrows():\n",
    "#     if i == 3:\n",
    "#         break\n",
    "#     i += 1\n",
    "    src = row['src']\n",
    "    dst = row['dst']\n",
    "    srces = geo_hash_table[src]\n",
    "    dsts = geo_hash_table[dst]\n",
    "    \n",
    "    \n",
    "    for s in srces:\n",
    "        for d in dsts:\n",
    "            result_ids.append((s, d))"
   ]
  },
  {
   "cell_type": "code",
   "execution_count": 21,
   "metadata": {},
   "outputs": [
    {
     "name": "stdout",
     "output_type": "stream",
     "text": [
      "66827\n",
      "[('1999300007605600150', '2009300012905600010'), ('1999300007605600150', '2016300016905600088'), ('1999300007605600150', '2007300010105600048')]\n"
     ]
    }
   ],
   "source": [
    "print(len(result_ids))\n",
    "print(result_ids[:3])\n",
    "# prev: 37493"
   ]
  },
  {
   "cell_type": "code",
   "execution_count": 22,
   "metadata": {},
   "outputs": [
    {
     "data": {
      "text/html": [
       "<div>\n",
       "<style scoped>\n",
       "    .dataframe tbody tr th:only-of-type {\n",
       "        vertical-align: middle;\n",
       "    }\n",
       "\n",
       "    .dataframe tbody tr th {\n",
       "        vertical-align: top;\n",
       "    }\n",
       "\n",
       "    .dataframe thead th {\n",
       "        text-align: right;\n",
       "    }\n",
       "</style>\n",
       "<table border=\"1\" class=\"dataframe\">\n",
       "  <thead>\n",
       "    <tr style=\"text-align: right;\">\n",
       "      <th></th>\n",
       "      <th>src</th>\n",
       "      <th>dst</th>\n",
       "    </tr>\n",
       "  </thead>\n",
       "  <tbody>\n",
       "    <tr>\n",
       "      <th>0</th>\n",
       "      <td>1999300007605600150</td>\n",
       "      <td>2009300012905600010</td>\n",
       "    </tr>\n",
       "  </tbody>\n",
       "</table>\n",
       "</div>"
      ],
      "text/plain": [
       "                   src                  dst\n",
       "0  1999300007605600150  2009300012905600010"
      ]
     },
     "execution_count": 22,
     "metadata": {},
     "output_type": "execute_result"
    }
   ],
   "source": [
    "df_result_ids = pd.DataFrame(columns=['src', 'dst'], data=result_ids); df_result_ids.head(1)"
   ]
  },
  {
   "cell_type": "code",
   "execution_count": 23,
   "metadata": {},
   "outputs": [],
   "source": [
    "# with MyMongo() as db:\n",
    "#     db.delete_and_insert_df('cvs', 'src_dst', df_result_ids)"
   ]
  },
  {
   "cell_type": "code",
   "execution_count": 24,
   "metadata": {},
   "outputs": [
    {
     "name": "stdout",
     "output_type": "stream",
     "text": [
      "66827\n"
     ]
    }
   ],
   "source": [
    "src_dst_with_line_distance = []\n",
    "for r in result_ids:\n",
    "    src = id_geo[r[0]]\n",
    "    dst = id_geo[r[1]]\n",
    "    lat1, lon1, lat2, lon2 = src[0], src[1], dst[0], dst[1]\n",
    "    src_name = src[2]\n",
    "    dst_name = dst[2]\n",
    "    d = get_distance_from_coords(lat1, lon1, lat2, lon2)\n",
    "    src_dst_with_line_distance.append((src_name, r[0], lat1, lon1, dst_name, r[1], lat2, lon2, d))\n",
    "#     print(r[0], r[1], d)\n",
    "print(len(src_dst_with_line_distance))"
   ]
  },
  {
   "cell_type": "code",
   "execution_count": 25,
   "metadata": {
    "scrolled": true
   },
   "outputs": [
    {
     "data": {
      "text/plain": [
       "[('훼미리마트탑동파크점',\n",
       "  '2004549012305600104',\n",
       "  33.51627081203372,\n",
       "  126.52439883355675,\n",
       "  'GS25 제주탑동점',\n",
       "  '2012651005205600003',\n",
       "  33.51636685509181,\n",
       "  126.52499245493942,\n",
       "  56.059140453556516),\n",
       " ('훼미리마트탑동파크점',\n",
       "  '2004549012305600104',\n",
       "  33.51627081203372,\n",
       "  126.52439883355675,\n",
       "  'LG25탑동점',\n",
       "  '2002549007505600126',\n",
       "  33.51636685509181,\n",
       "  126.52499245493942,\n",
       "  56.059140453556516),\n",
       " ('훼미리마트탑동파크점',\n",
       "  '2004549012305600104',\n",
       "  33.51627081203372,\n",
       "  126.52439883355675,\n",
       "  'LG25탑동점',\n",
       "  '2003549012305600252',\n",
       "  33.51636685509181,\n",
       "  126.52499245493942,\n",
       "  56.059140453556516),\n",
       " ('훼미리마트 제주로아점',\n",
       "  '2008651005805600031',\n",
       "  33.489854569463915,\n",
       "  126.49267145966195,\n",
       "  '씨유 신제주점',\n",
       "  '2004549012305600219',\n",
       "  33.48959685447329,\n",
       "  126.49314641117076,\n",
       "  52.546406195787746),\n",
       " ('훼미리마트 제주로아점',\n",
       "  '2008651005805600031',\n",
       "  33.489854569463915,\n",
       "  126.49267145966195,\n",
       "  '훼미리마트신제주점',\n",
       "  '2001549007505600172',\n",
       "  33.48959685447329,\n",
       "  126.49314641117076,\n",
       "  52.546406195787746),\n",
       " ('훼미리마트 제주로아점',\n",
       "  '2008651005805600031',\n",
       "  33.489854569463915,\n",
       "  126.49267145966195,\n",
       "  '훼미리마트신제주점',\n",
       "  '2003549012305600091',\n",
       "  33.48959685447329,\n",
       "  126.49314641117076,\n",
       "  52.546406195787746),\n",
       " ('훼미리마트 제주로아점',\n",
       "  '2008651005805600031',\n",
       "  33.489854569463915,\n",
       "  126.49267145966195,\n",
       "  '훼미리마트신제주점',\n",
       "  '2001549007505600177',\n",
       "  33.48959685447329,\n",
       "  126.49314641117076,\n",
       "  52.546406195787746),\n",
       " ('훼미리마트 남제주점',\n",
       "  '2007652002905600002',\n",
       "  33.2790751616667,\n",
       "  126.718285207001,\n",
       "  '씨유 남제주점',\n",
       "  '2010652002905600003',\n",
       "  33.27910039745387,\n",
       "  126.71828083217561,\n",
       "  2.835408357143678),\n",
       " ('훼미리마트 남제주점',\n",
       "  '2007652002905600002',\n",
       "  33.2790751616667,\n",
       "  126.718285207001,\n",
       "  '훼미리마트 남제주군점',\n",
       "  '2005552005005600005',\n",
       "  33.27910039745387,\n",
       "  126.71828083217561,\n",
       "  2.835408357143678),\n",
       " ('훼미리마트 남제주점',\n",
       "  '2007652002905600002',\n",
       "  33.2790751616667,\n",
       "  126.718285207001,\n",
       "  '훼미리마트남제주점',\n",
       "  '2003552005005600045',\n",
       "  33.27910039745387,\n",
       "  126.71828083217561,\n",
       "  2.835408357143678)]"
      ]
     },
     "execution_count": 25,
     "metadata": {},
     "output_type": "execute_result"
    }
   ],
   "source": [
    "src_dst_with_line_distance[-10:]"
   ]
  },
  {
   "cell_type": "code",
   "execution_count": 26,
   "metadata": {},
   "outputs": [
    {
     "name": "stdout",
     "output_type": "stream",
     "text": [
      "66827\n"
     ]
    },
    {
     "data": {
      "text/html": [
       "<div>\n",
       "<style scoped>\n",
       "    .dataframe tbody tr th:only-of-type {\n",
       "        vertical-align: middle;\n",
       "    }\n",
       "\n",
       "    .dataframe tbody tr th {\n",
       "        vertical-align: top;\n",
       "    }\n",
       "\n",
       "    .dataframe thead th {\n",
       "        text-align: right;\n",
       "    }\n",
       "</style>\n",
       "<table border=\"1\" class=\"dataframe\">\n",
       "  <thead>\n",
       "    <tr style=\"text-align: right;\">\n",
       "      <th></th>\n",
       "      <th>src_name</th>\n",
       "      <th>src</th>\n",
       "      <th>src_lat</th>\n",
       "      <th>src_lng</th>\n",
       "      <th>dst_name</th>\n",
       "      <th>dst</th>\n",
       "      <th>dst_lat</th>\n",
       "      <th>dst_lng</th>\n",
       "      <th>line_distance</th>\n",
       "    </tr>\n",
       "  </thead>\n",
       "  <tbody>\n",
       "    <tr>\n",
       "      <th>0</th>\n",
       "      <td>GS25동숭점</td>\n",
       "      <td>1999300007605600150</td>\n",
       "      <td>37.583669</td>\n",
       "      <td>127.002563</td>\n",
       "      <td>세븐일레븐 종로대학로점</td>\n",
       "      <td>2009300012905600010</td>\n",
       "      <td>37.583248</td>\n",
       "      <td>127.002445</td>\n",
       "      <td>47.934733</td>\n",
       "    </tr>\n",
       "  </tbody>\n",
       "</table>\n",
       "</div>"
      ],
      "text/plain": [
       "  src_name                  src    src_lat     src_lng      dst_name  \\\n",
       "0  GS25동숭점  1999300007605600150  37.583669  127.002563  세븐일레븐 종로대학로점   \n",
       "\n",
       "                   dst    dst_lat     dst_lng  line_distance  \n",
       "0  2009300012905600010  37.583248  127.002445      47.934733  "
      ]
     },
     "execution_count": 26,
     "metadata": {},
     "output_type": "execute_result"
    }
   ],
   "source": [
    "\n",
    "new_distance = pd.DataFrame(columns=['src_name', 'src', 'src_lat', 'src_lng', 'dst_name', 'dst', 'dst_lat',\n",
    "                                                      'dst_lng', 'line_distance'], data=src_dst_with_line_distance)\n",
    "print(len(new_distance))\n",
    "new_distance.head(1)\n",
    "# del df_src_dst_with_line_distance"
   ]
  },
  {
   "cell_type": "code",
   "execution_count": 27,
   "metadata": {},
   "outputs": [
    {
     "name": "stdout",
     "output_type": "stream",
     "text": [
      "<--Mongo Connected.\n",
      "Mongo Connection Closed.-->\n"
     ]
    }
   ],
   "source": [
    "with MyMongo() as db:\n",
    "    prev_distance = db.get_df_from_table('cvs', 'src_dst')"
   ]
  },
  {
   "cell_type": "code",
   "execution_count": 28,
   "metadata": {},
   "outputs": [
    {
     "name": "stdout",
     "output_type": "stream",
     "text": [
      "42125\n"
     ]
    },
    {
     "data": {
      "text/html": [
       "<div>\n",
       "<style scoped>\n",
       "    .dataframe tbody tr th:only-of-type {\n",
       "        vertical-align: middle;\n",
       "    }\n",
       "\n",
       "    .dataframe tbody tr th {\n",
       "        vertical-align: top;\n",
       "    }\n",
       "\n",
       "    .dataframe thead th {\n",
       "        text-align: right;\n",
       "    }\n",
       "</style>\n",
       "<table border=\"1\" class=\"dataframe\">\n",
       "  <thead>\n",
       "    <tr style=\"text-align: right;\">\n",
       "      <th></th>\n",
       "      <th>_id</th>\n",
       "      <th>dst</th>\n",
       "      <th>dst_lat</th>\n",
       "      <th>dst_lng</th>\n",
       "      <th>dst_name</th>\n",
       "      <th>line_distance</th>\n",
       "      <th>naver_distance</th>\n",
       "      <th>src</th>\n",
       "      <th>src_lat</th>\n",
       "      <th>src_lng</th>\n",
       "      <th>src_name</th>\n",
       "    </tr>\n",
       "  </thead>\n",
       "  <tbody>\n",
       "    <tr>\n",
       "      <th>0</th>\n",
       "      <td>5c0d43659085ca6d107fa1f6</td>\n",
       "      <td>2009300012905600010</td>\n",
       "      <td>37.583248</td>\n",
       "      <td>127.002445</td>\n",
       "      <td>세븐일레븐 종로대학로점</td>\n",
       "      <td>47.934733</td>\n",
       "      <td>44.0</td>\n",
       "      <td>1999300007605600150</td>\n",
       "      <td>37.583669</td>\n",
       "      <td>127.002563</td>\n",
       "      <td>GS25동숭점</td>\n",
       "    </tr>\n",
       "  </tbody>\n",
       "</table>\n",
       "</div>"
      ],
      "text/plain": [
       "                        _id                  dst    dst_lat     dst_lng  \\\n",
       "0  5c0d43659085ca6d107fa1f6  2009300012905600010  37.583248  127.002445   \n",
       "\n",
       "       dst_name  line_distance  naver_distance                  src  \\\n",
       "0  세븐일레븐 종로대학로점      47.934733            44.0  1999300007605600150   \n",
       "\n",
       "     src_lat     src_lng src_name  \n",
       "0  37.583669  127.002563  GS25동숭점  "
      ]
     },
     "execution_count": 28,
     "metadata": {},
     "output_type": "execute_result"
    }
   ],
   "source": [
    "print(len(prev_distance))\n",
    "prev_distance.head(1)"
   ]
  },
  {
   "cell_type": "code",
   "execution_count": 29,
   "metadata": {},
   "outputs": [
    {
     "data": {
      "text/plain": [
       "4632"
      ]
     },
     "execution_count": 29,
     "metadata": {},
     "output_type": "execute_result"
    }
   ],
   "source": [
    "42125 - 37493"
   ]
  },
  {
   "cell_type": "code",
   "execution_count": 30,
   "metadata": {},
   "outputs": [
    {
     "name": "stdout",
     "output_type": "stream",
     "text": [
      "24702\n"
     ]
    }
   ],
   "source": [
    "exc = new_distance[['src', 'dst']].merge(prev_distance[['src', 'dst', 'line_distance']], on=['src', 'dst'], how='outer'); exc\n",
    "print(len(exc.loc[exc['line_distance'].isna()]))"
   ]
  },
  {
   "cell_type": "code",
   "execution_count": 31,
   "metadata": {
    "scrolled": true
   },
   "outputs": [
    {
     "data": {
      "text/html": [
       "<div>\n",
       "<style scoped>\n",
       "    .dataframe tbody tr th:only-of-type {\n",
       "        vertical-align: middle;\n",
       "    }\n",
       "\n",
       "    .dataframe tbody tr th {\n",
       "        vertical-align: top;\n",
       "    }\n",
       "\n",
       "    .dataframe thead th {\n",
       "        text-align: right;\n",
       "    }\n",
       "</style>\n",
       "<table border=\"1\" class=\"dataframe\">\n",
       "  <thead>\n",
       "    <tr style=\"text-align: right;\">\n",
       "      <th></th>\n",
       "      <th>src_name</th>\n",
       "      <th>src</th>\n",
       "      <th>src_lat</th>\n",
       "      <th>src_lng</th>\n",
       "      <th>dst_name</th>\n",
       "      <th>dst</th>\n",
       "      <th>dst_lat</th>\n",
       "      <th>dst_lng</th>\n",
       "      <th>line_distance</th>\n",
       "    </tr>\n",
       "  </thead>\n",
       "  <tbody>\n",
       "    <tr>\n",
       "      <th>2</th>\n",
       "      <td>GS25동숭점</td>\n",
       "      <td>1999300007605600150</td>\n",
       "      <td>37.583669</td>\n",
       "      <td>127.002563</td>\n",
       "      <td>훼미리마트 혜화역점</td>\n",
       "      <td>2007300010105600048</td>\n",
       "      <td>37.583096</td>\n",
       "      <td>127.002101</td>\n",
       "      <td>75.609470</td>\n",
       "    </tr>\n",
       "    <tr>\n",
       "      <th>16</th>\n",
       "      <td>GS25 종로안국점</td>\n",
       "      <td>2008300012905600029</td>\n",
       "      <td>37.576936</td>\n",
       "      <td>126.985926</td>\n",
       "      <td>훼미리마트 안국스카이</td>\n",
       "      <td>2009300012905600059</td>\n",
       "      <td>37.576306</td>\n",
       "      <td>126.985578</td>\n",
       "      <td>76.566394</td>\n",
       "    </tr>\n",
       "    <tr>\n",
       "      <th>17</th>\n",
       "      <td>GS25 종로안국점</td>\n",
       "      <td>2003300007605600011</td>\n",
       "      <td>37.576936</td>\n",
       "      <td>126.985926</td>\n",
       "      <td>훼미리마트 안국스카이</td>\n",
       "      <td>2009300012905600059</td>\n",
       "      <td>37.576306</td>\n",
       "      <td>126.985578</td>\n",
       "      <td>76.566394</td>\n",
       "    </tr>\n",
       "    <tr>\n",
       "      <th>19</th>\n",
       "      <td>훼미리마트 종로성대점</td>\n",
       "      <td>2006300010105600052</td>\n",
       "      <td>37.584437</td>\n",
       "      <td>126.997020</td>\n",
       "      <td>(주)코리아세븐 성대점</td>\n",
       "      <td>1999300007605600094</td>\n",
       "      <td>37.584621</td>\n",
       "      <td>126.997147</td>\n",
       "      <td>23.292839</td>\n",
       "    </tr>\n",
       "    <tr>\n",
       "      <th>21</th>\n",
       "      <td>씨유 종로성대점</td>\n",
       "      <td>2010300012905600034</td>\n",
       "      <td>37.584437</td>\n",
       "      <td>126.997020</td>\n",
       "      <td>바이더웨이 종로성대점</td>\n",
       "      <td>2007300012905600012</td>\n",
       "      <td>37.584289</td>\n",
       "      <td>126.997672</td>\n",
       "      <td>59.766675</td>\n",
       "    </tr>\n",
       "  </tbody>\n",
       "</table>\n",
       "</div>"
      ],
      "text/plain": [
       "       src_name                  src    src_lat     src_lng      dst_name  \\\n",
       "2       GS25동숭점  1999300007605600150  37.583669  127.002563    훼미리마트 혜화역점   \n",
       "16   GS25 종로안국점  2008300012905600029  37.576936  126.985926   훼미리마트 안국스카이   \n",
       "17   GS25 종로안국점  2003300007605600011  37.576936  126.985926   훼미리마트 안국스카이   \n",
       "19  훼미리마트 종로성대점  2006300010105600052  37.584437  126.997020  (주)코리아세븐 성대점   \n",
       "21     씨유 종로성대점  2010300012905600034  37.584437  126.997020   바이더웨이 종로성대점   \n",
       "\n",
       "                    dst    dst_lat     dst_lng  line_distance  \n",
       "2   2007300010105600048  37.583096  127.002101      75.609470  \n",
       "16  2009300012905600059  37.576306  126.985578      76.566394  \n",
       "17  2009300012905600059  37.576306  126.985578      76.566394  \n",
       "19  1999300007605600094  37.584621  126.997147      23.292839  \n",
       "21  2007300012905600012  37.584289  126.997672      59.766675  "
      ]
     },
     "execution_count": 31,
     "metadata": {},
     "output_type": "execute_result"
    }
   ],
   "source": [
    "exc_distance = new_distance.loc[exc['line_distance'].isna()]; exc_distance.head(5)"
   ]
  },
  {
   "cell_type": "markdown",
   "metadata": {},
   "source": [
    "# DB: update exclusive 'distance'"
   ]
  },
  {
   "cell_type": "code",
   "execution_count": 32,
   "metadata": {},
   "outputs": [
    {
     "name": "stdout",
     "output_type": "stream",
     "text": [
      "<--Mongo Connected.\n",
      "- bulk_write result:\n",
      "match, insert, modify, upsert\n",
      "0 0 0 24702\n",
      "Mongo Connection Closed.-->\n"
     ]
    }
   ],
   "source": [
    "docs = exc_distance.to_dict(orient='records')\n",
    "with MyMongo() as db:\n",
    "    db.update_one_bulk('cvs', 'src_dst', docs, 'src', 'dst')"
   ]
  },
  {
   "cell_type": "markdown",
   "metadata": {},
   "source": [
    "## Validation"
   ]
  },
  {
   "cell_type": "code",
   "execution_count": 33,
   "metadata": {},
   "outputs": [
    {
     "data": {
      "text/html": [
       "<div>\n",
       "<style scoped>\n",
       "    .dataframe tbody tr th:only-of-type {\n",
       "        vertical-align: middle;\n",
       "    }\n",
       "\n",
       "    .dataframe tbody tr th {\n",
       "        vertical-align: top;\n",
       "    }\n",
       "\n",
       "    .dataframe thead th {\n",
       "        text-align: right;\n",
       "    }\n",
       "</style>\n",
       "<table border=\"1\" class=\"dataframe\">\n",
       "  <thead>\n",
       "    <tr style=\"text-align: right;\">\n",
       "      <th></th>\n",
       "      <th>lat</th>\n",
       "      <th>lng</th>\n",
       "      <th>관리번호</th>\n",
       "      <th>사업장명</th>\n",
       "      <th>상세영업상태명</th>\n",
       "      <th>도로명전체주소</th>\n",
       "    </tr>\n",
       "  </thead>\n",
       "  <tbody>\n",
       "    <tr>\n",
       "      <th>29</th>\n",
       "      <td>37.57253163403659</td>\n",
       "      <td>126.9817930397272</td>\n",
       "      <td>2007300010105600014</td>\n",
       "      <td>세븐일레븐 종로두산점</td>\n",
       "      <td>정상영업</td>\n",
       "      <td>서울특별시 종로구 삼봉로 81 (수송동,두산위브파빌리온 106호)</td>\n",
       "    </tr>\n",
       "    <tr>\n",
       "      <th>392</th>\n",
       "      <td>37.57191549161327</td>\n",
       "      <td>126.98271235969271</td>\n",
       "      <td>2015300016905600063</td>\n",
       "      <td>씨유종로공평점</td>\n",
       "      <td>폐업처리</td>\n",
       "      <td>서울특별시 종로구 삼봉로 100, 1층 (공평동)</td>\n",
       "    </tr>\n",
       "  </tbody>\n",
       "</table>\n",
       "</div>"
      ],
      "text/plain": [
       "                   lat                 lng                 관리번호         사업장명  \\\n",
       "29   37.57253163403659   126.9817930397272  2007300010105600014  세븐일레븐 종로두산점   \n",
       "392  37.57191549161327  126.98271235969271  2015300016905600063      씨유종로공평점   \n",
       "\n",
       "    상세영업상태명                               도로명전체주소  \n",
       "29     정상영업  서울특별시 종로구 삼봉로 81 (수송동,두산위브파빌리온 106호)  \n",
       "392    폐업처리           서울특별시 종로구 삼봉로 100, 1층 (공평동)  "
      ]
     },
     "execution_count": 33,
     "metadata": {},
     "output_type": "execute_result"
    }
   ],
   "source": [
    "# 2013300012905600009 2010300012905600088\n",
    "tmp_list = ['2007300010105600014', '2015300016905600063',]\n",
    "cvs.loc[(cvs['관리번호'].isin(tmp_list)), cols]"
   ]
  },
  {
   "cell_type": "markdown",
   "metadata": {},
   "source": [
    "# bruteforce"
   ]
  },
  {
   "cell_type": "code",
   "execution_count": 34,
   "metadata": {},
   "outputs": [],
   "source": [
    "# comb_list = []\n",
    "# for idx_region in idx_regions:\n",
    "#     ids = cvs.loc[~idx_lat_empty & idx_region]['관리번호'].tolist()\n",
    "#     print(len(ids))\n",
    "#     comb_list.append(combinations(ids, 2))\n",
    "\n",
    "# print(comb_list)"
   ]
  },
  {
   "cell_type": "code",
   "execution_count": 35,
   "metadata": {},
   "outputs": [],
   "source": [
    "# result = []\n",
    "# # i = 0\n",
    "# cvs_region = cvs.loc[idx_regions[-1]]\n",
    "# for c in tqdm_notebook(comb_list[-1]):\n",
    "# #     if i == 3:\n",
    "# #         break\n",
    "# #     i += 1\n",
    "   \n",
    "#     id1 = c[0]\n",
    "#     id2 = c[1]\n",
    "\n",
    "#     cvs1 = cvs_region.loc[cvs_region['관리번호']==id1]\n",
    "#     cvs2 = cvs_region.loc[cvs_region['관리번호']==id2]\n",
    "    \n",
    "#     lat1 = cvs1['lat']\n",
    "#     lon1 = cvs1['lng']\n",
    "#     lat2 = cvs2['lat']\n",
    "#     lon2 = cvs2['lng']\n",
    "    \n",
    "#     distance = get_distance_from_coords(lat1, lon1, lat2, lon2)\n",
    "#     if distance <= 1000:\n",
    "#         result.append((id1, id2, distance))\n",
    "    \n",
    "# #     if len(result) > 5:\n",
    "# #         break\n",
    "\n",
    "# #     print(cvs0.loc[::, cols])\n",
    "# #     print(cvs1.loc[::, cols])\n",
    "# print(len(result))"
   ]
  },
  {
   "cell_type": "code",
   "execution_count": null,
   "metadata": {},
   "outputs": [],
   "source": []
  },
  {
   "cell_type": "code",
   "execution_count": null,
   "metadata": {},
   "outputs": [],
   "source": []
  },
  {
   "cell_type": "code",
   "execution_count": null,
   "metadata": {},
   "outputs": [],
   "source": []
  },
  {
   "cell_type": "code",
   "execution_count": null,
   "metadata": {},
   "outputs": [],
   "source": []
  },
  {
   "cell_type": "code",
   "execution_count": null,
   "metadata": {},
   "outputs": [],
   "source": []
  }
 ],
 "metadata": {
  "kernelspec": {
   "display_name": "Workspace",
   "language": "python",
   "name": "workspace"
  },
  "language_info": {
   "codemirror_mode": {
    "name": "ipython",
    "version": 3
   },
   "file_extension": ".py",
   "mimetype": "text/x-python",
   "name": "python",
   "nbconvert_exporter": "python",
   "pygments_lexer": "ipython3",
   "version": "3.6.6"
  },
  "toc": {
   "base_numbering": 1,
   "nav_menu": {},
   "number_sections": true,
   "sideBar": true,
   "skip_h1_title": false,
   "title_cell": "Table of Contents",
   "title_sidebar": "Contents",
   "toc_cell": false,
   "toc_position": {
    "height": "calc(100% - 180px)",
    "left": "10px",
    "top": "150px",
    "width": "284px"
   },
   "toc_section_display": true,
   "toc_window_display": true
  }
 },
 "nbformat": 4,
 "nbformat_minor": 2
}
