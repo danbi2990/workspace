{
 "cells": [
  {
   "cell_type": "code",
   "execution_count": 1,
   "metadata": {},
   "outputs": [],
   "source": [
    "from itertools import combinations\n",
    "from math import sin, cos, sqrt, atan2, radians\n",
    "\n",
    "import pandas as pd\n",
    "import numpy as np\n",
    "from tqdm import tqdm_notebook\n",
    "\n",
    "import matplotlib.pyplot as plt\n",
    "from scipy.cluster.vq import kmeans2, whiten\n",
    "\n",
    "from db.mongo import MyMongo"
   ]
  },
  {
   "cell_type": "code",
   "execution_count": 2,
   "metadata": {},
   "outputs": [
    {
     "name": "stdout",
     "output_type": "stream",
     "text": [
      "<--Mongo Connected.\n",
      "Mongo Connection Closed.-->\n"
     ]
    }
   ],
   "source": [
    "with MyMongo() as db:\n",
    "    cvs = db.get_df_from_table('cvs', 'cvs')"
   ]
  },
  {
   "cell_type": "code",
   "execution_count": 3,
   "metadata": {},
   "outputs": [
    {
     "data": {
      "text/html": [
       "<div>\n",
       "<style scoped>\n",
       "    .dataframe tbody tr th:only-of-type {\n",
       "        vertical-align: middle;\n",
       "    }\n",
       "\n",
       "    .dataframe tbody tr th {\n",
       "        vertical-align: top;\n",
       "    }\n",
       "\n",
       "    .dataframe thead th {\n",
       "        text-align: right;\n",
       "    }\n",
       "</style>\n",
       "<table border=\"1\" class=\"dataframe\">\n",
       "  <thead>\n",
       "    <tr style=\"text-align: right;\">\n",
       "      <th></th>\n",
       "      <th>_id</th>\n",
       "      <th>lat</th>\n",
       "      <th>lng</th>\n",
       "      <th>개방서비스ID</th>\n",
       "      <th>개방서비스명</th>\n",
       "      <th>개방자치단체코드</th>\n",
       "      <th>관리번호</th>\n",
       "      <th>데이터갱신구분</th>\n",
       "      <th>데이터갱신일자</th>\n",
       "      <th>도로명우편번호</th>\n",
       "      <th>...</th>\n",
       "      <th>인허가일자</th>\n",
       "      <th>인허가취소일자</th>\n",
       "      <th>재개업일자</th>\n",
       "      <th>좌표정보(X)</th>\n",
       "      <th>좌표정보(Y)</th>\n",
       "      <th>지정일자</th>\n",
       "      <th>최종수정시점</th>\n",
       "      <th>폐업일자</th>\n",
       "      <th>휴업시작일자</th>\n",
       "      <th>휴업종료일자</th>\n",
       "    </tr>\n",
       "  </thead>\n",
       "  <tbody>\n",
       "    <tr>\n",
       "      <th>0</th>\n",
       "      <td>5c08bec59085ca65eac3dbc9</td>\n",
       "      <td>37.5755739237728</td>\n",
       "      <td>126.985645756747</td>\n",
       "      <td>11_43_02_P</td>\n",
       "      <td>담배소매업</td>\n",
       "      <td>3000000.0</td>\n",
       "      <td>2006300010105600037</td>\n",
       "      <td>I</td>\n",
       "      <td>2018-08-31 23:59:59.0</td>\n",
       "      <td>NaN</td>\n",
       "      <td>...</td>\n",
       "      <td>20060921</td>\n",
       "      <td>NaN</td>\n",
       "      <td>NaN</td>\n",
       "      <td>198658.943470079</td>\n",
       "      <td>452604.254902527</td>\n",
       "      <td>NaN</td>\n",
       "      <td>20080221000000.0</td>\n",
       "      <td>NaN</td>\n",
       "      <td>NaN</td>\n",
       "      <td>NaN</td>\n",
       "    </tr>\n",
       "  </tbody>\n",
       "</table>\n",
       "<p>1 rows × 33 columns</p>\n",
       "</div>"
      ],
      "text/plain": [
       "                        _id               lat               lng     개방서비스ID  \\\n",
       "0  5c08bec59085ca65eac3dbc9  37.5755739237728  126.985645756747  11_43_02_P   \n",
       "\n",
       "  개방서비스명   개방자치단체코드                 관리번호 데이터갱신구분                데이터갱신일자  \\\n",
       "0  담배소매업  3000000.0  2006300010105600037       I  2018-08-31 23:59:59.0   \n",
       "\n",
       "  도로명우편번호  ...       인허가일자 인허가취소일자 재개업일자           좌표정보(X)           좌표정보(Y)  \\\n",
       "0     NaN  ...    20060921     NaN   NaN  198658.943470079  452604.254902527   \n",
       "\n",
       "  지정일자            최종수정시점 폐업일자 휴업시작일자 휴업종료일자  \n",
       "0  NaN  20080221000000.0  NaN    NaN    NaN  \n",
       "\n",
       "[1 rows x 33 columns]"
      ]
     },
     "execution_count": 3,
     "metadata": {},
     "output_type": "execute_result"
    }
   ],
   "source": [
    "idx_lat_empty = cvs['lat'].isna()\n",
    "cvs.loc[~idx_lat_empty].head(1)"
   ]
  },
  {
   "cell_type": "code",
   "execution_count": 4,
   "metadata": {},
   "outputs": [
    {
     "name": "stdout",
     "output_type": "stream",
     "text": [
      "Index(['_id', 'lat', 'lng', '개방서비스ID', '개방서비스명', '개방자치단체코드', '관리번호', '데이터갱신구분',\n",
      "       '데이터갱신일자', '도로명우편번호', '도로명전체주소', '민원종류명', '번호', '사업장명', '상세영업상태명',\n",
      "       '상세영업상태코드', '소재지면적', '소재지우편번호', '소재지전체주소', '소재지전화', '업태구분명', '영업상태구분코드',\n",
      "       '영업상태명', '인허가일자', '인허가취소일자', '재개업일자', '좌표정보(X)', '좌표정보(Y)', '지정일자',\n",
      "       '최종수정시점', '폐업일자', '휴업시작일자', '휴업종료일자'],\n",
      "      dtype='object')\n"
     ]
    },
    {
     "data": {
      "text/plain": [
       "33159"
      ]
     },
     "execution_count": 4,
     "metadata": {},
     "output_type": "execute_result"
    }
   ],
   "source": [
    "print(cvs.columns)\n",
    "len(cvs.loc[~idx_lat_empty])"
   ]
  },
  {
   "cell_type": "code",
   "execution_count": 5,
   "metadata": {},
   "outputs": [],
   "source": [
    "pd.set_option('display.max_columns', None)\n",
    "cols = ['lat', 'lng', '관리번호', '사업장명', '상세영업상태명', '도로명전체주소']\n",
    "cvs.loc[~idx_lat_empty, cols].head(1)\n",
    "\n",
    "cvs['도로명전체주소'] = cvs['도로명전체주소'].fillna('')\n",
    "\n",
    "idx_blank = cvs['도로명전체주소']==''\n",
    "idx_seoul = cvs['도로명전체주소'].str.contains('서울')\n",
    "idx_busan = cvs['도로명전체주소'].str.contains('부산')\n",
    "idx_daegu = cvs['도로명전체주소'].str.contains('대구')\n",
    "idx_incheon = cvs['도로명전체주소'].str.contains('인천')\n",
    "idx_ulsan = cvs['도로명전체주소'].str.contains('울산')\n",
    "idx_gwangju = cvs['도로명전체주소'].str.contains('광주')\n",
    "idx_daejeon = cvs['도로명전체주소'].str.contains('대전')\n",
    "idx_jeju = cvs['도로명전체주소'].str.contains('제주')\n",
    "idx_sejong = cvs['도로명전체주소'].str.contains('세종')\n",
    "idx_kyungki = cvs['도로명전체주소'].str.contains('경기')\n",
    "idx_gangwon = cvs['도로명전체주소'].str.contains('강원')\n",
    "idx_cb = cvs['도로명전체주소'].str.contains('충청북도') | cvs['도로명전체주소'].str.contains('충북')\n",
    "idx_cn = cvs['도로명전체주소'].str.contains('충청남도') | cvs['도로명전체주소'].str.contains('충남')\n",
    "idx_jb = cvs['도로명전체주소'].str.contains('전라북도') | cvs['도로명전체주소'].str.contains('전북')\n",
    "idx_jn = cvs['도로명전체주소'].str.contains('전라남도') | cvs['도로명전체주소'].str.contains('전남')\n",
    "idx_kb = cvs['도로명전체주소'].str.contains('경상북도') | cvs['도로명전체주소'].str.contains('경북')\n",
    "idx_kn = cvs['도로명전체주소'].str.contains('경상남도') | cvs['도로명전체주소'].str.contains('경남')\n",
    "\n",
    "idx_all = idx_blank| idx_seoul| idx_busan| idx_daegu| idx_incheon| idx_ulsan| idx_gwangju| idx_daejeon| idx_jeju| idx_sejong| idx_kyungki|\\\n",
    "            idx_gangwon| idx_cb| idx_cn| idx_jb| idx_jn| idx_kb| idx_kn\n",
    "\n",
    "idx_regions = [idx_seoul, idx_busan, idx_daegu, idx_incheon, idx_ulsan, idx_gwangju, idx_daejeon, idx_jeju, idx_sejong, idx_kyungki,\n",
    "               idx_gangwon, idx_cb, idx_cn, idx_jb, idx_jn, idx_kb, idx_kn,]\n",
    "idx_regions = [idx_blank |idx  for idx in idx_regions]\n",
    "\n",
    "# idx_ = cvs['도로명전체주소'].str.contains('')\n",
    "# idx_ = cvs['도로명전체주소'].str.contains('')\n",
    "# idx_ = cvs['도로명전체주소'].str.contains('')\n",
    "\n",
    "\n",
    "\n",
    "\n"
   ]
  },
  {
   "cell_type": "code",
   "execution_count": 6,
   "metadata": {},
   "outputs": [
    {
     "name": "stdout",
     "output_type": "stream",
     "text": [
      "65541\n",
      "65541\n",
      "12978\n"
     ]
    },
    {
     "data": {
      "text/html": [
       "<div>\n",
       "<style scoped>\n",
       "    .dataframe tbody tr th:only-of-type {\n",
       "        vertical-align: middle;\n",
       "    }\n",
       "\n",
       "    .dataframe tbody tr th {\n",
       "        vertical-align: top;\n",
       "    }\n",
       "\n",
       "    .dataframe thead th {\n",
       "        text-align: right;\n",
       "    }\n",
       "</style>\n",
       "<table border=\"1\" class=\"dataframe\">\n",
       "  <thead>\n",
       "    <tr style=\"text-align: right;\">\n",
       "      <th></th>\n",
       "      <th>lat</th>\n",
       "      <th>lng</th>\n",
       "      <th>관리번호</th>\n",
       "      <th>사업장명</th>\n",
       "      <th>상세영업상태명</th>\n",
       "      <th>도로명전체주소</th>\n",
       "    </tr>\n",
       "  </thead>\n",
       "  <tbody>\n",
       "  </tbody>\n",
       "</table>\n",
       "</div>"
      ],
      "text/plain": [
       "Empty DataFrame\n",
       "Columns: [lat, lng, 관리번호, 사업장명, 상세영업상태명, 도로명전체주소]\n",
       "Index: []"
      ]
     },
     "execution_count": 6,
     "metadata": {},
     "output_type": "execute_result"
    }
   ],
   "source": [
    "print(len(cvs))\n",
    "print(len(cvs.loc[idx_all, cols]))\n",
    "print(len(cvs.loc[idx_seoul, cols]))\n",
    "\n",
    "cvs.loc[~idx_all, cols].head(3)\n",
    "\n",
    "# len(cvs.loc[cvs['도로명전체주소'].isna()])"
   ]
  },
  {
   "cell_type": "code",
   "execution_count": 7,
   "metadata": {},
   "outputs": [
    {
     "name": "stdout",
     "output_type": "stream",
     "text": [
      "1562\n"
     ]
    }
   ],
   "source": [
    "print(len(cvs.loc[idx_jeju]))"
   ]
  },
  {
   "cell_type": "markdown",
   "metadata": {},
   "source": [
    "# kmeans"
   ]
  },
  {
   "cell_type": "code",
   "execution_count": 8,
   "metadata": {},
   "outputs": [
    {
     "name": "stdout",
     "output_type": "stream",
     "text": [
      "3307\n"
     ]
    },
    {
     "data": {
      "image/png": "[encoded data removed]",
      "text/plain": [
       "<Figure size 432x288 with 1 Axes>"
      ]
     },
     "metadata": {},
     "output_type": "display_data"
    }
   ],
   "source": [
    "\n",
    "\n",
    "coordinates = np.array(cvs.loc[~idx_lat_empty & idx_busan, ['lat', 'lng']].astype(float))\n",
    "print(len(coordinates))\n",
    "# print(whiten(coordinates))\n",
    "\n",
    "x, y = kmeans2(whiten(coordinates), 3, iter = 20)\n",
    "plt.scatter(coordinates[:,0], coordinates[:,1], c=y);\n",
    "plt.show()"
   ]
  },
  {
   "cell_type": "code",
   "execution_count": 9,
   "metadata": {},
   "outputs": [
    {
     "data": {
      "text/plain": [
       "array([1, 1, 1, ..., 2, 2, 2], dtype=int32)"
      ]
     },
     "execution_count": 9,
     "metadata": {},
     "output_type": "execute_result"
    }
   ],
   "source": [
    "y"
   ]
  },
  {
   "cell_type": "markdown",
   "metadata": {},
   "source": [
    "# geohash"
   ]
  },
  {
   "cell_type": "code",
   "execution_count": 76,
   "metadata": {},
   "outputs": [
    {
     "name": "stdout",
     "output_type": "stream",
     "text": [
      "wydmc8kjs48m ['2006300010105600037', '2006300007605600015']\n",
      "wydmf1bkwpb0 ['1999300007605600150']\n",
      "wydmc24fs0m9 ['2007300010105600043']\n"
     ]
    }
   ],
   "source": [
    "import pygeohash as pgh\n",
    "from collections import defaultdict\n",
    "\n",
    "geos = np.array(cvs.loc[~idx_lat_empty & idx_seoul, ['관리번호', 'lat', 'lng']])\n",
    "# len(geos)\n",
    "geo_hash_list = [(pgh.encode(float(g[1]), float(g[2])), g[0]) for g in geos]\n",
    "\n",
    "geo_hash_table = defaultdict(list)\n",
    "\n",
    "for g in geo_hash_list:\n",
    "    geo_hash_table[g[0]].append(g[1])\n",
    "\n",
    "i = 0\n",
    "for k, v in geo_hash_table.items():\n",
    "    if i == 3:\n",
    "        break\n",
    "    i += 1\n",
    "    print(k, v)\n",
    "    \n",
    "# print(geo_hash_list[0])\n",
    "# print(geo_hash_table[:3])\n",
    "\n",
    "# pgh.geohash_approximate_distance(hashes[0], hashes[1])\n",
    "# pgh.geohash_haversine_distance(hashes[4], hashes[1])\n",
    "# 118, 19"
   ]
  },
  {
   "cell_type": "code",
   "execution_count": 86,
   "metadata": {},
   "outputs": [],
   "source": [
    "geos[:3]\n",
    "id_geo = {}\n",
    "for g in geos:\n",
    "    id_geo[g[0]] = (float(g[1]), float(g[2]))"
   ]
  },
  {
   "cell_type": "code",
   "execution_count": 77,
   "metadata": {},
   "outputs": [
    {
     "data": {
      "text/html": [
       "<div>\n",
       "<style scoped>\n",
       "    .dataframe tbody tr th:only-of-type {\n",
       "        vertical-align: middle;\n",
       "    }\n",
       "\n",
       "    .dataframe tbody tr th {\n",
       "        vertical-align: top;\n",
       "    }\n",
       "\n",
       "    .dataframe thead th {\n",
       "        text-align: right;\n",
       "    }\n",
       "</style>\n",
       "<table border=\"1\" class=\"dataframe\">\n",
       "  <thead>\n",
       "    <tr style=\"text-align: right;\">\n",
       "      <th></th>\n",
       "      <th>geohash</th>\n",
       "      <th>관리번호</th>\n",
       "    </tr>\n",
       "  </thead>\n",
       "  <tbody>\n",
       "    <tr>\n",
       "      <th>0</th>\n",
       "      <td>wydmc8kjs48m</td>\n",
       "      <td>2006300010105600037</td>\n",
       "    </tr>\n",
       "    <tr>\n",
       "      <th>1</th>\n",
       "      <td>wydmf1bkwpb0</td>\n",
       "      <td>1999300007605600150</td>\n",
       "    </tr>\n",
       "  </tbody>\n",
       "</table>\n",
       "</div>"
      ],
      "text/plain": [
       "        geohash                 관리번호\n",
       "0  wydmc8kjs48m  2006300010105600037\n",
       "1  wydmf1bkwpb0  1999300007605600150"
      ]
     },
     "execution_count": 77,
     "metadata": {},
     "output_type": "execute_result"
    }
   ],
   "source": [
    "tmp = pd.DataFrame(columns=['geohash', '관리번호'], data=geo_hash_list); tmp.head(2)"
   ]
  },
  {
   "cell_type": "code",
   "execution_count": 58,
   "metadata": {
    "collapsed": true
   },
   "outputs": [
    {
     "data": {
      "text/html": [
       "<div>\n",
       "<style scoped>\n",
       "    .dataframe tbody tr th:only-of-type {\n",
       "        vertical-align: middle;\n",
       "    }\n",
       "\n",
       "    .dataframe tbody tr th {\n",
       "        vertical-align: top;\n",
       "    }\n",
       "\n",
       "    .dataframe thead th {\n",
       "        text-align: right;\n",
       "    }\n",
       "</style>\n",
       "<table border=\"1\" class=\"dataframe\">\n",
       "  <thead>\n",
       "    <tr style=\"text-align: right;\">\n",
       "      <th></th>\n",
       "      <th>관리번호</th>\n",
       "    </tr>\n",
       "    <tr>\n",
       "      <th>geohash</th>\n",
       "      <th></th>\n",
       "    </tr>\n",
       "  </thead>\n",
       "  <tbody>\n",
       "    <tr>\n",
       "      <th>wy4pu79262r5</th>\n",
       "      <td>1</td>\n",
       "    </tr>\n",
       "    <tr>\n",
       "      <th>wy4r8w8zsk1v</th>\n",
       "      <td>1</td>\n",
       "    </tr>\n",
       "    <tr>\n",
       "      <th>wy4wpzcs8jes</th>\n",
       "      <td>1</td>\n",
       "    </tr>\n",
       "    <tr>\n",
       "      <th>wy5rzz1w194f</th>\n",
       "      <td>1</td>\n",
       "    </tr>\n",
       "    <tr>\n",
       "      <th>wy60nq051fvx</th>\n",
       "      <td>2</td>\n",
       "    </tr>\n",
       "    <tr>\n",
       "      <th>wy60rdtwy2j4</th>\n",
       "      <td>1</td>\n",
       "    </tr>\n",
       "    <tr>\n",
       "      <th>wy6tmjc66kwc</th>\n",
       "      <td>1</td>\n",
       "    </tr>\n",
       "    <tr>\n",
       "      <th>wy6wehnp5f79</th>\n",
       "      <td>1</td>\n",
       "    </tr>\n",
       "    <tr>\n",
       "      <th>wy72jxs28ywm</th>\n",
       "      <td>1</td>\n",
       "    </tr>\n",
       "    <tr>\n",
       "      <th>wy780rmn7xe0</th>\n",
       "      <td>1</td>\n",
       "    </tr>\n",
       "    <tr>\n",
       "      <th>wy782c69khmd</th>\n",
       "      <td>1</td>\n",
       "    </tr>\n",
       "    <tr>\n",
       "      <th>wy78ew40p1su</th>\n",
       "      <td>1</td>\n",
       "    </tr>\n",
       "    <tr>\n",
       "      <th>wy78mhbxu9dx</th>\n",
       "      <td>1</td>\n",
       "    </tr>\n",
       "    <tr>\n",
       "      <th>wy78px7xwefs</th>\n",
       "      <td>1</td>\n",
       "    </tr>\n",
       "    <tr>\n",
       "      <th>wy7b0bkd00dh</th>\n",
       "      <td>1</td>\n",
       "    </tr>\n",
       "    <tr>\n",
       "      <th>wy7b21x4gjhp</th>\n",
       "      <td>49</td>\n",
       "    </tr>\n",
       "    <tr>\n",
       "      <th>wy7b509c5yk4</th>\n",
       "      <td>1</td>\n",
       "    </tr>\n",
       "    <tr>\n",
       "      <th>wy7b9kns8b25</th>\n",
       "      <td>2</td>\n",
       "    </tr>\n",
       "    <tr>\n",
       "      <th>wy7c7jzshnjk</th>\n",
       "      <td>1</td>\n",
       "    </tr>\n",
       "    <tr>\n",
       "      <th>wy7js438rq6u</th>\n",
       "      <td>1</td>\n",
       "    </tr>\n",
       "    <tr>\n",
       "      <th>wy7kn1v3xjn1</th>\n",
       "      <td>1</td>\n",
       "    </tr>\n",
       "    <tr>\n",
       "      <th>wy7kn3e74zkq</th>\n",
       "      <td>1</td>\n",
       "    </tr>\n",
       "    <tr>\n",
       "      <th>wy7knzk0c627</th>\n",
       "      <td>1</td>\n",
       "    </tr>\n",
       "    <tr>\n",
       "      <th>wy7kp50b4zw5</th>\n",
       "      <td>1</td>\n",
       "    </tr>\n",
       "    <tr>\n",
       "      <th>wyd3sch4fd7h</th>\n",
       "      <td>1</td>\n",
       "    </tr>\n",
       "    <tr>\n",
       "      <th>wyd4rj09275p</th>\n",
       "      <td>3</td>\n",
       "    </tr>\n",
       "    <tr>\n",
       "      <th>wyd5c6bsnm65</th>\n",
       "      <td>1</td>\n",
       "    </tr>\n",
       "    <tr>\n",
       "      <th>wyd65xpc200s</th>\n",
       "      <td>1</td>\n",
       "    </tr>\n",
       "    <tr>\n",
       "      <th>wyd6kmb1s4jr</th>\n",
       "      <td>2</td>\n",
       "    </tr>\n",
       "    <tr>\n",
       "      <th>wyd6xe23p7qp</th>\n",
       "      <td>1</td>\n",
       "    </tr>\n",
       "    <tr>\n",
       "      <th>...</th>\n",
       "      <td>...</td>\n",
       "    </tr>\n",
       "    <tr>\n",
       "      <th>wydq781tvnnx</th>\n",
       "      <td>1</td>\n",
       "    </tr>\n",
       "    <tr>\n",
       "      <th>wydq782fu393</th>\n",
       "      <td>2</td>\n",
       "    </tr>\n",
       "    <tr>\n",
       "      <th>wydq7840dph4</th>\n",
       "      <td>9</td>\n",
       "    </tr>\n",
       "    <tr>\n",
       "      <th>wydq784dqnsc</th>\n",
       "      <td>1</td>\n",
       "    </tr>\n",
       "    <tr>\n",
       "      <th>wydq785m8qw4</th>\n",
       "      <td>1</td>\n",
       "    </tr>\n",
       "    <tr>\n",
       "      <th>wydq7899b0mz</th>\n",
       "      <td>1</td>\n",
       "    </tr>\n",
       "    <tr>\n",
       "      <th>wydq78chkr6g</th>\n",
       "      <td>3</td>\n",
       "    </tr>\n",
       "    <tr>\n",
       "      <th>wydq78crfd4s</th>\n",
       "      <td>1</td>\n",
       "    </tr>\n",
       "    <tr>\n",
       "      <th>wydq78k5spzy</th>\n",
       "      <td>1</td>\n",
       "    </tr>\n",
       "    <tr>\n",
       "      <th>wydq78kg4u99</th>\n",
       "      <td>1</td>\n",
       "    </tr>\n",
       "    <tr>\n",
       "      <th>wydq78qnwz9v</th>\n",
       "      <td>1</td>\n",
       "    </tr>\n",
       "    <tr>\n",
       "      <th>wydq78rg96nm</th>\n",
       "      <td>1</td>\n",
       "    </tr>\n",
       "    <tr>\n",
       "      <th>wydq78sjh8kv</th>\n",
       "      <td>1</td>\n",
       "    </tr>\n",
       "    <tr>\n",
       "      <th>wydq79rpjtxt</th>\n",
       "      <td>1</td>\n",
       "    </tr>\n",
       "    <tr>\n",
       "      <th>wydq7c0yeez8</th>\n",
       "      <td>1</td>\n",
       "    </tr>\n",
       "    <tr>\n",
       "      <th>wydq7c1tbf3f</th>\n",
       "      <td>2</td>\n",
       "    </tr>\n",
       "    <tr>\n",
       "      <th>wydq7c658g9h</th>\n",
       "      <td>1</td>\n",
       "    </tr>\n",
       "    <tr>\n",
       "      <th>wydq7c9mjvgs</th>\n",
       "      <td>1</td>\n",
       "    </tr>\n",
       "    <tr>\n",
       "      <th>wydq7cbbfcj6</th>\n",
       "      <td>1</td>\n",
       "    </tr>\n",
       "    <tr>\n",
       "      <th>wydq7cdnvp83</th>\n",
       "      <td>2</td>\n",
       "    </tr>\n",
       "    <tr>\n",
       "      <th>wydq7f50ykqn</th>\n",
       "      <td>1</td>\n",
       "    </tr>\n",
       "    <tr>\n",
       "      <th>wydq7h4eujnw</th>\n",
       "      <td>1</td>\n",
       "    </tr>\n",
       "    <tr>\n",
       "      <th>wydq7hcs727r</th>\n",
       "      <td>1</td>\n",
       "    </tr>\n",
       "    <tr>\n",
       "      <th>wydq7htppf1m</th>\n",
       "      <td>2</td>\n",
       "    </tr>\n",
       "    <tr>\n",
       "      <th>wydq7j0mvmsr</th>\n",
       "      <td>1</td>\n",
       "    </tr>\n",
       "    <tr>\n",
       "      <th>wydq7jhjk7zk</th>\n",
       "      <td>1</td>\n",
       "    </tr>\n",
       "    <tr>\n",
       "      <th>wydqf8pqjnv9</th>\n",
       "      <td>2</td>\n",
       "    </tr>\n",
       "    <tr>\n",
       "      <th>wydqh00crr4p</th>\n",
       "      <td>2</td>\n",
       "    </tr>\n",
       "    <tr>\n",
       "      <th>wydr6n3u142j</th>\n",
       "      <td>1</td>\n",
       "    </tr>\n",
       "    <tr>\n",
       "      <th>wye5m1xsu2c5</th>\n",
       "      <td>2</td>\n",
       "    </tr>\n",
       "  </tbody>\n",
       "</table>\n",
       "<p>8368 rows × 1 columns</p>\n",
       "</div>"
      ],
      "text/plain": [
       "              관리번호\n",
       "geohash           \n",
       "wy4pu79262r5     1\n",
       "wy4r8w8zsk1v     1\n",
       "wy4wpzcs8jes     1\n",
       "wy5rzz1w194f     1\n",
       "wy60nq051fvx     2\n",
       "wy60rdtwy2j4     1\n",
       "wy6tmjc66kwc     1\n",
       "wy6wehnp5f79     1\n",
       "wy72jxs28ywm     1\n",
       "wy780rmn7xe0     1\n",
       "wy782c69khmd     1\n",
       "wy78ew40p1su     1\n",
       "wy78mhbxu9dx     1\n",
       "wy78px7xwefs     1\n",
       "wy7b0bkd00dh     1\n",
       "wy7b21x4gjhp    49\n",
       "wy7b509c5yk4     1\n",
       "wy7b9kns8b25     2\n",
       "wy7c7jzshnjk     1\n",
       "wy7js438rq6u     1\n",
       "wy7kn1v3xjn1     1\n",
       "wy7kn3e74zkq     1\n",
       "wy7knzk0c627     1\n",
       "wy7kp50b4zw5     1\n",
       "wyd3sch4fd7h     1\n",
       "wyd4rj09275p     3\n",
       "wyd5c6bsnm65     1\n",
       "wyd65xpc200s     1\n",
       "wyd6kmb1s4jr     2\n",
       "wyd6xe23p7qp     1\n",
       "...            ...\n",
       "wydq781tvnnx     1\n",
       "wydq782fu393     2\n",
       "wydq7840dph4     9\n",
       "wydq784dqnsc     1\n",
       "wydq785m8qw4     1\n",
       "wydq7899b0mz     1\n",
       "wydq78chkr6g     3\n",
       "wydq78crfd4s     1\n",
       "wydq78k5spzy     1\n",
       "wydq78kg4u99     1\n",
       "wydq78qnwz9v     1\n",
       "wydq78rg96nm     1\n",
       "wydq78sjh8kv     1\n",
       "wydq79rpjtxt     1\n",
       "wydq7c0yeez8     1\n",
       "wydq7c1tbf3f     2\n",
       "wydq7c658g9h     1\n",
       "wydq7c9mjvgs     1\n",
       "wydq7cbbfcj6     1\n",
       "wydq7cdnvp83     2\n",
       "wydq7f50ykqn     1\n",
       "wydq7h4eujnw     1\n",
       "wydq7hcs727r     1\n",
       "wydq7htppf1m     2\n",
       "wydq7j0mvmsr     1\n",
       "wydq7jhjk7zk     1\n",
       "wydqf8pqjnv9     2\n",
       "wydqh00crr4p     2\n",
       "wydr6n3u142j     1\n",
       "wye5m1xsu2c5     2\n",
       "\n",
       "[8368 rows x 1 columns]"
      ]
     },
     "execution_count": 58,
     "metadata": {},
     "output_type": "execute_result"
    }
   ],
   "source": [
    "tmp.groupby('geohash').count()"
   ]
  },
  {
   "cell_type": "code",
   "execution_count": 37,
   "metadata": {},
   "outputs": [
    {
     "data": {
      "text/plain": [
       "<itertools.combinations at 0x7fca6a5e62c8>"
      ]
     },
     "execution_count": 37,
     "metadata": {},
     "output_type": "execute_result"
    }
   ],
   "source": [
    "hashes = [g[0] for g in geo_hash_list]\n",
    "comb_hash = combinations(hashes, 2)\n",
    "comb_hash\n",
    "\n",
    "# for idx_region in idx_regions:\n",
    "#     ids = cvs.loc[~idx_lat_empty & idx_region]['관리번호'].tolist()\n",
    "#     print(len(ids))\n",
    "#     comb_list.append(combinations(ids, 2))\n",
    "\n",
    "# print(comb_list)"
   ]
  },
  {
   "cell_type": "code",
   "execution_count": 38,
   "metadata": {},
   "outputs": [],
   "source": [
    "result_hash = []\n",
    "\n",
    "for c in comb_hash:\n",
    "    d = pgh.geohash_approximate_distance(c[0], c[1])\n",
    "    if d < 200:\n",
    "        result_hash.append(c)\n"
   ]
  },
  {
   "cell_type": "code",
   "execution_count": 69,
   "metadata": {},
   "outputs": [
    {
     "name": "stdout",
     "output_type": "stream",
     "text": [
      "16719\n",
      "7481\n",
      "3764\n"
     ]
    },
    {
     "data": {
      "text/html": [
       "<div>\n",
       "<style scoped>\n",
       "    .dataframe tbody tr th:only-of-type {\n",
       "        vertical-align: middle;\n",
       "    }\n",
       "\n",
       "    .dataframe tbody tr th {\n",
       "        vertical-align: top;\n",
       "    }\n",
       "\n",
       "    .dataframe thead th {\n",
       "        text-align: right;\n",
       "    }\n",
       "</style>\n",
       "<table border=\"1\" class=\"dataframe\">\n",
       "  <thead>\n",
       "    <tr style=\"text-align: right;\">\n",
       "      <th></th>\n",
       "      <th>src</th>\n",
       "      <th>dst</th>\n",
       "    </tr>\n",
       "  </thead>\n",
       "  <tbody>\n",
       "    <tr>\n",
       "      <th>1</th>\n",
       "      <td>wydmf1bkwpb0</td>\n",
       "      <td>wydmf1b673r1</td>\n",
       "    </tr>\n",
       "  </tbody>\n",
       "</table>\n",
       "</div>"
      ],
      "text/plain": [
       "            src           dst\n",
       "1  wydmf1bkwpb0  wydmf1b673r1"
      ]
     },
     "execution_count": 69,
     "metadata": {},
     "output_type": "execute_result"
    }
   ],
   "source": [
    "src_dst = pd.DataFrame(columns=['src', 'dst'], data=result_hash)\n",
    "print(len(src_dst))\n",
    "src_dst.drop(src_dst[(src_dst['src']==src_dst['dst'])].index, inplace=True)\n",
    "print(len(src_dst))\n",
    "src_dst.drop_duplicates(inplace=True)\n",
    "print(len(src_dst))\n",
    "src_dst.head(1)"
   ]
  },
  {
   "cell_type": "code",
   "execution_count": 80,
   "metadata": {},
   "outputs": [],
   "source": [
    "result_ids = []\n",
    "i = 0\n",
    "for idx, row in src_dst.iterrows():\n",
    "#     if i == 3:\n",
    "#         break\n",
    "#     i += 1\n",
    "    src = row['src']\n",
    "    dst = row['dst']\n",
    "    srces = geo_hash_table[src]\n",
    "    dsts = geo_hash_table[dst]\n",
    "    \n",
    "    \n",
    "    for s in srces:\n",
    "        for d in dsts:\n",
    "            result_ids.append((s, d))"
   ]
  },
  {
   "cell_type": "code",
   "execution_count": 83,
   "metadata": {},
   "outputs": [
    {
     "name": "stdout",
     "output_type": "stream",
     "text": [
      "10779\n",
      "[('1999300007605600150', '2015300016905600093'), ('2007300010105600043', '2015300016905600098'), ('2007300010105600043', '2004300007605600079')]\n"
     ]
    }
   ],
   "source": [
    "print(len(result_ids))\n",
    "print(result_ids[:3])"
   ]
  },
  {
   "cell_type": "code",
   "execution_count": 96,
   "metadata": {},
   "outputs": [
    {
     "name": "stdout",
     "output_type": "stream",
     "text": [
      "1999300007605600150 2015300016905600093 47.76831894842475\n",
      "2007300010105600043 2015300016905600098 60.58857147435068\n",
      "2007300010105600043 2004300007605600079 60.58857147435068\n",
      "2007300010105600043 2013300012905600007 42.56555056674884\n",
      "2008300012905600082 2013300012905600009 90.5192139250219\n",
      "2008300012905600082 2010300012905600088 90.5192139250219\n",
      "2008300012905600082 2012300012905600083 90.5192139250219\n",
      "2007300012905600055 2017300016905600061 64.319824212411\n",
      "2008300012905600071 1999300007605600125 80.58657010516268\n",
      "2008300012905600071 2017300016905600078 80.58657010516268\n"
     ]
    }
   ],
   "source": [
    "\n",
    "for r in result_ids[:10]:\n",
    "    src = id_geo[r[0]]\n",
    "    dst = id_geo[r[1]]\n",
    "    lat1, lon1, lat2, lon2 = src[0], src[1], dst[0], dst[1]\n",
    "    d = get_distance_from_coords(lat1, lon1, lat2, lon2)\n",
    "    print(r[0], r[1], d)\n",
    "#     print(src, dst)"
   ]
  },
  {
   "cell_type": "code",
   "execution_count": 97,
   "metadata": {},
   "outputs": [
    {
     "data": {
      "text/html": [
       "<div>\n",
       "<style scoped>\n",
       "    .dataframe tbody tr th:only-of-type {\n",
       "        vertical-align: middle;\n",
       "    }\n",
       "\n",
       "    .dataframe tbody tr th {\n",
       "        vertical-align: top;\n",
       "    }\n",
       "\n",
       "    .dataframe thead th {\n",
       "        text-align: right;\n",
       "    }\n",
       "</style>\n",
       "<table border=\"1\" class=\"dataframe\">\n",
       "  <thead>\n",
       "    <tr style=\"text-align: right;\">\n",
       "      <th></th>\n",
       "      <th>lat</th>\n",
       "      <th>lng</th>\n",
       "      <th>관리번호</th>\n",
       "      <th>사업장명</th>\n",
       "      <th>상세영업상태명</th>\n",
       "      <th>도로명전체주소</th>\n",
       "    </tr>\n",
       "  </thead>\n",
       "  <tbody>\n",
       "    <tr>\n",
       "      <th>4</th>\n",
       "      <td>37.577146200573374</td>\n",
       "      <td>126.96943017884111</td>\n",
       "      <td>2008300012905600082</td>\n",
       "      <td>세븐일레븐 종로배화점</td>\n",
       "      <td>정상영업</td>\n",
       "      <td>서울특별시 종로구 필운대로 12 (필운동)</td>\n",
       "    </tr>\n",
       "    <tr>\n",
       "      <th>224</th>\n",
       "      <td>37.576335287688764</td>\n",
       "      <td>126.96933996356815</td>\n",
       "      <td>2013300012905600009</td>\n",
       "      <td>씨유 종로사직공원점</td>\n",
       "      <td>정상영업</td>\n",
       "      <td>서울특별시 종로구 사직로 95, 제1층 -1호 (필운동)</td>\n",
       "    </tr>\n",
       "    <tr>\n",
       "      <th>289</th>\n",
       "      <td>37.576335287688764</td>\n",
       "      <td>126.96933996356815</td>\n",
       "      <td>2010300012905600088</td>\n",
       "      <td>씨유 종로누상점</td>\n",
       "      <td>폐업처리</td>\n",
       "      <td>서울특별시 종로구 옥인길 23-1 (누상동)</td>\n",
       "    </tr>\n",
       "  </tbody>\n",
       "</table>\n",
       "</div>"
      ],
      "text/plain": [
       "                    lat                 lng                 관리번호         사업장명  \\\n",
       "4    37.577146200573374  126.96943017884111  2008300012905600082  세븐일레븐 종로배화점   \n",
       "224  37.576335287688764  126.96933996356815  2013300012905600009   씨유 종로사직공원점   \n",
       "289  37.576335287688764  126.96933996356815  2010300012905600088     씨유 종로누상점   \n",
       "\n",
       "    상세영업상태명                          도로명전체주소  \n",
       "4      정상영업          서울특별시 종로구 필운대로 12 (필운동)  \n",
       "224    정상영업  서울특별시 종로구 사직로 95, 제1층 -1호 (필운동)  \n",
       "289    폐업처리         서울특별시 종로구 옥인길 23-1 (누상동)  "
      ]
     },
     "execution_count": 97,
     "metadata": {},
     "output_type": "execute_result"
    }
   ],
   "source": [
    "# 2013300012905600009 2010300012905600088\n",
    "tmp_list = ['2008300012905600082', '2013300012905600009', '2010300012905600088']\n",
    "cvs.loc[(cvs['관리번호'].isin(tmp_list)), cols]"
   ]
  },
  {
   "cell_type": "code",
   "execution_count": 51,
   "metadata": {},
   "outputs": [],
   "source": [
    "result_distance = []\n",
    "# len(result_hash)\n",
    "for r in result_hash:\n",
    "    real_d = pgh.geohash_haversine_distance(r[0], r[1])\n",
    "    result_distance.append((r[0], r[1], real_d))"
   ]
  },
  {
   "cell_type": "code",
   "execution_count": 61,
   "metadata": {},
   "outputs": [
    {
     "data": {
      "text/plain": [
       "[('wydmc8kjs48m', 'wydmc8kjs48m', 0.0),\n",
       " ('wydmf1bkwpb0', 'wydmf1b673r1', 47.78824862591178),\n",
       " ('wydmc24fs0m9', 'wydmc242x7cc', 60.60183233297039),\n",
       " ('wydmc24fs0m9', 'wydmc24b78zz', 42.620562750545325),\n",
       " ('wydmc24fs0m9', 'wydmc242x7cc', 60.60183233297039),\n",
       " ('wydmc28qdpv0', 'wydmc286009g', 90.5271991930163),\n",
       " ('wydmc28qdpv0', 'wydmc286009g', 90.5271991930163),\n",
       " ('wydmc28qdpv0', 'wydmc286009g', 90.5271991930163),\n",
       " ('wydmcfqsy46k', 'wydmcfqsy46k', 0.0),\n",
       " ('wydmcqtx4vq3', 'wydmcqtjex94', 64.36317571705051)]"
      ]
     },
     "execution_count": 61,
     "metadata": {},
     "output_type": "execute_result"
    }
   ],
   "source": [
    "result_distance[:10]\n",
    "# len(result_distance)"
   ]
  },
  {
   "cell_type": "markdown",
   "metadata": {},
   "source": [
    "# bruteforce"
   ]
  },
  {
   "cell_type": "code",
   "execution_count": 95,
   "metadata": {},
   "outputs": [],
   "source": [
    "def get_distance_from_coords(lat1, lon1, lat2, lon2):\n",
    "    # approximate radius of earth in km\n",
    "    R = 6371.0\n",
    "\n",
    "    lat1 = radians(lat1)\n",
    "    lon1 = radians(lon1)\n",
    "    lat2 = radians(lat2)\n",
    "    lon2 = radians(lon2)\n",
    "    dlon = lon2 - lon1\n",
    "    dlat = lat2 - lat1\n",
    "\n",
    "    a = sin(dlat / 2)**2 + cos(lat1) * cos(lat2) * sin(dlon / 2)**2\n",
    "    c = 2 * atan2(sqrt(a), sqrt(1 - a))\n",
    "    distance = R * c * 1000\n",
    "    return distance"
   ]
  },
  {
   "cell_type": "code",
   "execution_count": 12,
   "metadata": {},
   "outputs": [],
   "source": [
    "# comb_list = []\n",
    "# for idx_region in idx_regions:\n",
    "#     ids = cvs.loc[~idx_lat_empty & idx_region]['관리번호'].tolist()\n",
    "#     print(len(ids))\n",
    "#     comb_list.append(combinations(ids, 2))\n",
    "\n",
    "# print(comb_list)"
   ]
  },
  {
   "cell_type": "code",
   "execution_count": 13,
   "metadata": {},
   "outputs": [],
   "source": [
    "# result = []\n",
    "# # i = 0\n",
    "# cvs_region = cvs.loc[idx_regions[-1]]\n",
    "# for c in tqdm_notebook(comb_list[-1]):\n",
    "# #     if i == 3:\n",
    "# #         break\n",
    "# #     i += 1\n",
    "   \n",
    "#     id1 = c[0]\n",
    "#     id2 = c[1]\n",
    "\n",
    "#     cvs1 = cvs_region.loc[cvs_region['관리번호']==id1]\n",
    "#     cvs2 = cvs_region.loc[cvs_region['관리번호']==id2]\n",
    "    \n",
    "#     lat1 = cvs1['lat']\n",
    "#     lon1 = cvs1['lng']\n",
    "#     lat2 = cvs2['lat']\n",
    "#     lon2 = cvs2['lng']\n",
    "    \n",
    "#     distance = get_distance_from_coords(lat1, lon1, lat2, lon2)\n",
    "#     if distance <= 1000:\n",
    "#         result.append((id1, id2, distance))\n",
    "    \n",
    "# #     if len(result) > 5:\n",
    "# #         break\n",
    "\n",
    "# #     print(cvs0.loc[::, cols])\n",
    "# #     print(cvs1.loc[::, cols])\n",
    "# print(len(result))"
   ]
  },
  {
   "cell_type": "code",
   "execution_count": null,
   "metadata": {},
   "outputs": [],
   "source": []
  },
  {
   "cell_type": "code",
   "execution_count": null,
   "metadata": {},
   "outputs": [],
   "source": []
  },
  {
   "cell_type": "code",
   "execution_count": null,
   "metadata": {},
   "outputs": [],
   "source": []
  },
  {
   "cell_type": "code",
   "execution_count": null,
   "metadata": {},
   "outputs": [],
   "source": []
  },
  {
   "cell_type": "code",
   "execution_count": null,
   "metadata": {},
   "outputs": [],
   "source": []
  }
 ],
 "metadata": {
  "kernelspec": {
   "display_name": "Workspace",
   "language": "python",
   "name": "workspace"
  },
  "language_info": {
   "codemirror_mode": {
    "name": "ipython",
    "version": 3
   },
   "file_extension": ".py",
   "mimetype": "text/x-python",
   "name": "python",
   "nbconvert_exporter": "python",
   "pygments_lexer": "ipython3",
   "version": "3.6.6"
  },
  "toc": {
   "base_numbering": 1,
   "nav_menu": {},
   "number_sections": true,
   "sideBar": true,
   "skip_h1_title": false,
   "title_cell": "Table of Contents",
   "title_sidebar": "Contents",
   "toc_cell": false,
   "toc_position": {
    "height": "calc(100% - 180px)",
    "left": "10px",
    "top": "150px",
    "width": "235px"
   },
   "toc_section_display": true,
   "toc_window_display": true
  }
 },
 "nbformat": 4,
 "nbformat_minor": 2
}
