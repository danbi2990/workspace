{
 "cells": [
  {
   "cell_type": "code",
   "execution_count": 1,
   "metadata": {},
   "outputs": [],
   "source": [
    "import os\n",
    "from urllib.parse import urlparse\n",
    "from collections import defaultdict\n",
    "\n",
    "import pandas as pd\n",
    "\n",
    "from db.mongo import MyMongo"
   ]
  },
  {
   "cell_type": "code",
   "execution_count": 2,
   "metadata": {},
   "outputs": [
    {
     "name": "stdout",
     "output_type": "stream",
     "text": [
      "<--Mongo Connected.\n",
      "Mongo Connection Closed.-->\n",
      "<--Mongo Connected.\n",
      "{}\n",
      "Deleted rows: 366\n",
      "Inserted rows: 381\n",
      "Mongo Connection Closed.-->\n",
      "<--Mongo Connected.\n",
      "{}\n",
      "Deleted rows: 1811\n",
      "Inserted rows: 1959\n",
      "Mongo Connection Closed.-->\n"
     ]
    }
   ],
   "source": [
    "with MyMongo() as db:\n",
    "    url_script = db.find('public_website', 'c1_public_js_list')\n",
    "\n",
    "without_js_script = []\n",
    "\n",
    "for item in url_script:\n",
    "    item.pop('jsScript')\n",
    "    without_js_script.append(item)\n",
    "\n",
    "with MyMongo() as db:\n",
    "    db.delete_and_insert('public_website', 'c2_js_files', without_js_script)\n",
    "\n",
    "domain_unique_js_file = defaultdict(set)\n",
    "\n",
    "for item in without_js_script:\n",
    "    scheme = urlparse(item['url'])[0]\n",
    "    domain = item['netLoc']\n",
    "    scheme_domain = scheme + \"://\" + domain\n",
    "    if item['jsFile']:\n",
    "        js_files = set(item['jsFile'])\n",
    "        domain_unique_js_file[scheme_domain] = domain_unique_js_file[scheme_domain].union(js_files)\n",
    "\n",
    "df_data = []\n",
    "for domain, unique_files in domain_unique_js_file.items():\n",
    "    for file in unique_files:\n",
    "        df_data.append((domain, file))\n",
    "\n",
    "df_files_per_domain = pd.DataFrame(columns=['netLoc', 'jsFile'], data=df_data)\n",
    "# df_files_per_domain['path'] = os.path.join(df_files_per_domain['netLoc'], df_files_per_domain['jsFile'])\n",
    "\n",
    "with MyMongo() as db:\n",
    "    db.delete_and_insert_df('public_website', 'c3_js_files_per_domain', df_files_per_domain)"
   ]
  },
  {
   "cell_type": "code",
   "execution_count": 3,
   "metadata": {},
   "outputs": [],
   "source": [
    "url = 'https://www.google'"
   ]
  },
  {
   "cell_type": "code",
   "execution_count": null,
   "metadata": {},
   "outputs": [],
   "source": []
  },
  {
   "cell_type": "code",
   "execution_count": null,
   "metadata": {},
   "outputs": [],
   "source": []
  },
  {
   "cell_type": "code",
   "execution_count": null,
   "metadata": {},
   "outputs": [],
   "source": []
  },
  {
   "cell_type": "code",
   "execution_count": null,
   "metadata": {},
   "outputs": [],
   "source": []
  },
  {
   "cell_type": "code",
   "execution_count": null,
   "metadata": {},
   "outputs": [],
   "source": []
  }
 ],
 "metadata": {
  "kernelspec": {
   "display_name": "Workspace",
   "language": "python",
   "name": "workspace"
  },
  "language_info": {
   "codemirror_mode": {
    "name": "ipython",
    "version": 3
   },
   "file_extension": ".py",
   "mimetype": "text/x-python",
   "name": "python",
   "nbconvert_exporter": "python",
   "pygments_lexer": "ipython3",
   "version": "3.6.6"
  },
  "toc": {
   "base_numbering": 1,
   "nav_menu": {},
   "number_sections": true,
   "sideBar": true,
   "skip_h1_title": false,
   "title_cell": "Table of Contents",
   "title_sidebar": "Contents",
   "toc_cell": false,
   "toc_position": {
    "height": "calc(100% - 180px)",
    "left": "10px",
    "top": "150px",
    "width": "279px"
   },
   "toc_section_display": true,
   "toc_window_display": true
  }
 },
 "nbformat": 4,
 "nbformat_minor": 2
}
