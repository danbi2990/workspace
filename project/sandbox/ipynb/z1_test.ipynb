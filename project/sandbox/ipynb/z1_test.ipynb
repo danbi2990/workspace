{
 "cells": [
  {
   "cell_type": "markdown",
   "metadata": {},
   "source": [
    "# Import"
   ]
  },
  {
   "cell_type": "code",
   "execution_count": 6,
   "metadata": {},
   "outputs": [],
   "source": [
    "import socket\n",
    "from urllib.parse import urlencode, quote_plus\n",
    "\n",
    "import pandas as pd\n",
    "import requests\n",
    "\n",
    "from db.mongo import MyMongo\n",
    "# from api.kakao_geocode import get_geocode_from_address"
   ]
  },
  {
   "cell_type": "markdown",
   "metadata": {},
   "source": [
    "# 함수"
   ]
  },
  {
   "cell_type": "code",
   "execution_count": null,
   "metadata": {},
   "outputs": [],
   "source": [
    "def get_distance_from_coords(lat1, lon1, lat2, lon2):\n",
    "\n",
    "    # approximate radius of earth in km\n",
    "    R = 6373.0\n",
    "\n",
    "    lat1 = radians(lat1)\n",
    "    lon1 = radians(lon1)\n",
    "    lat2 = radians(lat2)\n",
    "    lon2 = radians(lon2)\n",
    "\n",
    "    dlon = lon2 - lon1\n",
    "    dlat = lat2 - lat1\n",
    "\n",
    "    a = sin(dlat / 2)**2 + cos(lat1) * cos(lat2) * sin(dlon / 2)**2\n",
    "    c = 2 * atan2(sqrt(a), sqrt(1 - a))\n",
    "\n",
    "    distance = R * c * 1000\n",
    "\n",
    "    return distance\n",
    "\n",
    "\n",
    "def get_kakao_api_key():\n",
    "    hname = socket.gethostname()\n",
    "    api_key = ''\n",
    "    if hname == 'ideapad':\n",
    "        file_path = '/home/jake/Private/kakao_api_key.txt'\n",
    "    elif hname == 'danbi-mac.local':\n",
    "        file_path = '/Users/jake/Private/kakao_api_key.txt'\n",
    "\n",
    "    with open(file_path) as f:\n",
    "        api_key = f.read()\n",
    "    return api_key.strip()\n",
    "\n",
    "\n",
    "def fetch_geo_response_from_kakao(addr, url_type='address'):\n",
    "    urls = {\n",
    "        'address': 'https://dapi.kakao.com/v2/local/search/address.json',\n",
    "        'keyword': 'https://dapi.kakao.com/v2/local/search/keyword.json'\n",
    "    }\n",
    "\n",
    "    def get_response_by_type(url_type, response):\n",
    "        # print(response)\n",
    "        if not response or response['meta']['total_count'] == 0:\n",
    "            return None\n",
    "\n",
    "        doc = response['documents'][0]\n",
    "        if url_type == 'address':\n",
    "            return doc['road_address'] or doc['address']\n",
    "\n",
    "        if url_type == 'keyword':\n",
    "            return doc\n",
    "\n",
    "    url = urls[url_type]\n",
    "    key = get_kakao_api_key()\n",
    "    headers = {'Authorization': f'KakaoAK {key}'}\n",
    "    payload = {'query': addr, }\n",
    "    encoded = urlencode(payload, quote_via=quote_plus)\n",
    "    url2 = f'{url}?{encoded}'\n",
    "    res = requests.get(url2, headers=headers)\n",
    "\n",
    "    return get_response_by_type(url_type, res.json())\n"
   ]
  },
  {
   "cell_type": "markdown",
   "metadata": {},
   "source": [
    "# 데이터 가져오기"
   ]
  },
  {
   "cell_type": "code",
   "execution_count": 7,
   "metadata": {},
   "outputs": [
    {
     "name": "stdout",
     "output_type": "stream",
     "text": [
      "<--Mongo Connected.\n",
      "Mongo Connection Closed.-->\n",
      "cvs_tobacco: 65541\n"
     ]
    }
   ],
   "source": [
    "with MyMongo() as db:\n",
    "    cvs_tobacco = db.get_df_from_table('cvs', 'cvs')\n",
    "\n",
    "# cvs_tobacco = pd.read_csv('cvs_all_lat_lng.tsv', sep='\\t', dtype=object).drop_duplicates(['관리번호'])\n",
    "\n",
    "print(f'cvs_tobacco: {len(cvs_tobacco)}')  # before: 67602, after: 65541"
   ]
  },
  {
   "cell_type": "code",
   "execution_count": 8,
   "metadata": {},
   "outputs": [
    {
     "data": {
      "text/plain": [
       "Index(['_id', 'lat', 'lng', '개방서비스ID', '개방서비스명', '개방자치단체코드', '관리번호', '데이터갱신구분',\n",
       "       '데이터갱신일자', '도로명우편번호', '도로명전체주소', '민원종류명', '번호', '사업장명', '상세영업상태명',\n",
       "       '상세영업상태코드', '소재지면적', '소재지우편번호', '소재지전체주소', '소재지전화', '업태구분명', '영업상태구분코드',\n",
       "       '영업상태명', '인허가일자', '인허가취소일자', '재개업일자', '좌표정보(X)', '좌표정보(Y)', '지정일자',\n",
       "       '최종수정시점', '폐업일자', '휴업시작일자', '휴업종료일자'],\n",
       "      dtype='object')"
      ]
     },
     "execution_count": 8,
     "metadata": {},
     "output_type": "execute_result"
    }
   ],
   "source": [
    "# cols = ['영업상태명', '상세영업상태명', '폐업일자', '휴업시작일자', '휴업종료일자', '재개업일자', '소재지전화', '사업장명', '최종수정시점', '데이터갱신구분', '데이터갱신일자', '업태구분명',\n",
    "#         '좌표정보(X)', '좌표정보(Y)', '위생업태명', '남성종사자수', '여성종사자수', '영업장주변구분명', '등급구분명', '급수시설구분명', '총종업원수', '본사종업원수',\n",
    "#         '건물소유구분명', '보증액', '월세액', '다중이용업소여부', '시설총규모', '전통업소지정번호', '전통업소주된음식', '홈페이지']\n",
    "\n",
    "cols = ['관리번호', '사업장명', '상세영업상태명', '좌표정보(X)', '좌표정보(Y)', '도로명전체주소', '지정일자', '폐업일자', '최종수정시점', '데이터갱신일자', '업태구분명', 'lat', 'lng']\n",
    "\n",
    "cvs_tobacco.columns"
   ]
  },
  {
   "cell_type": "code",
   "execution_count": 9,
   "metadata": {},
   "outputs": [
    {
     "data": {
      "text/plain": [
       "9822"
      ]
     },
     "execution_count": 9,
     "metadata": {},
     "output_type": "execute_result"
    }
   ],
   "source": [
    "len(cvs_tobacco.loc[~cvs_tobacco['lat'].isna(), cols])\n",
    "# cvs_tobacco.loc[::, cols]"
   ]
  },
  {
   "cell_type": "code",
   "execution_count": null,
   "metadata": {},
   "outputs": [],
   "source": [
    "i = 0\n",
    "\n",
    "for idx, row in cvs_tobacco.loc[cvs_tobacco['lat'].isna()]:\n",
    "    addr = row['도로명전체주소']\n",
    "    name = row['사업장명']\n",
    "    doc = None\n",
    "\n",
    "    if addr:\n",
    "        doc = fetch_geo_response_from_kakao(addr)\n",
    "    elif name:\n",
    "        doc = fetch_geo_response_from_kakao(name, url_type='keyword')\n",
    "    if doc:\n",
    "        cvs_tobacco.at[idx, 'lat'] = doc['y']\n",
    "        cvs_tobacco.at[idx, 'lng'] = doc['x']\n",
    "    if i == 20:\n",
    "        with MyMongo() as db:\n",
    "            db.update_one_bulk('cvs', 'cvs',)"
   ]
  },
  {
   "cell_type": "code",
   "execution_count": null,
   "metadata": {},
   "outputs": [],
   "source": []
  },
  {
   "cell_type": "code",
   "execution_count": null,
   "metadata": {},
   "outputs": [],
   "source": []
  },
  {
   "cell_type": "code",
   "execution_count": null,
   "metadata": {},
   "outputs": [],
   "source": []
  }
 ],
 "metadata": {
  "kernelspec": {
   "display_name": "Workspace",
   "language": "python",
   "name": "workspace"
  },
  "language_info": {
   "codemirror_mode": {
    "name": "ipython",
    "version": 3
   },
   "file_extension": ".py",
   "mimetype": "text/x-python",
   "name": "python",
   "nbconvert_exporter": "python",
   "pygments_lexer": "ipython3",
   "version": "3.6.6"
  },
  "toc": {
   "base_numbering": 1,
   "nav_menu": {},
   "number_sections": true,
   "sideBar": true,
   "skip_h1_title": false,
   "title_cell": "Table of Contents",
   "title_sidebar": "Contents",
   "toc_cell": false,
   "toc_position": {
    "height": "calc(100% - 180px)",
    "left": "10px",
    "top": "150px",
    "width": "349px"
   },
   "toc_section_display": true,
   "toc_window_display": true
  }
 },
 "nbformat": 4,
 "nbformat_minor": 2
}
