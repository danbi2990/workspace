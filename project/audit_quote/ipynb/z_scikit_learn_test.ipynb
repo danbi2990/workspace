{
 "cells": [
  {
   "cell_type": "markdown",
   "metadata": {},
   "source": [
    "# Import"
   ]
  },
  {
   "cell_type": "code",
   "execution_count": 84,
   "metadata": {},
   "outputs": [],
   "source": [
    "from collections import OrderedDict\n",
    "\n",
    "from sklearn.feature_extraction.text import TfidfVectorizer\n",
    "\n",
    "from db.mongo import MyMongo"
   ]
  },
  {
   "cell_type": "markdown",
   "metadata": {},
   "source": [
    "# Load Data"
   ]
  },
  {
   "cell_type": "code",
   "execution_count": 85,
   "metadata": {},
   "outputs": [
    {
     "name": "stdout",
     "output_type": "stream",
     "text": [
      "<--Mongo Connected.\n",
      "Mongo Connection Closed.-->\n"
     ]
    }
   ],
   "source": [
    "with MyMongo() as db:\n",
    "    quote = db.get_df_from_table('audit_quote', 'b1_kindergarten')"
   ]
  },
  {
   "cell_type": "markdown",
   "metadata": {},
   "source": [
    "# Pre-processing"
   ]
  },
  {
   "cell_type": "code",
   "execution_count": 86,
   "metadata": {},
   "outputs": [],
   "source": [
    "quote['특성추출'].fillna('', inplace=True)\n",
    "quote['인용문'].fillna('', inplace=True)"
   ]
  },
  {
   "cell_type": "code",
   "execution_count": 87,
   "metadata": {
    "scrolled": true
   },
   "outputs": [],
   "source": [
    "quote[['국회의원', '특성추출']]\n",
    "a = quote['특성추출'].tolist()"
   ]
  },
  {
   "cell_type": "code",
   "execution_count": 88,
   "metadata": {},
   "outputs": [
    {
     "name": "stdout",
     "output_type": "stream",
     "text": [
      "<class 'str'>\n",
      "기업_적폐,세계_부패,생활적폐,신규_기업,문어발식_기업,강서구,생활적폐_청산,정부_성장,혁신_성장,혁신성장,세계_부패_비용,문어발식_기업_확장,생활적폐_청산_구상,권력형_부패,신규_스타트업,정부_성장_기조,악의적_기술_탈취,7개,스타트업,악의적,공정경제,7개_정도_관련_부처,5만,시장_진출_진입,신규_스타트업_시대,수사_독촉,7개_정도,전직_대통령,시장_진출,수사_독촉_가이드라인,중앙정부,국제통화기금,이명박,살인사건,공기업,폐단들,경우_천문학적_배상,젊은이들,산업통상자원부,관행적,천문학,기획재정부,기득권,중소벤처기업부,내부자,국정농단,보고서,종착점,2000조,공정위,우리나라,법망,권력형,내부자거래,소득주도성장,2조,특허법원,세계_GDP,민원_제기,강서구_PC방_살인사건,기업부패,집권여당,발간_보고서,사회_단계,강서구_PC방,기업들,지방_토호,업종_구별,중앙_권력,최종_종착점,2조_달러,박근혜,PC,GDP,IMF,기업,부패,성장,탈취,적폐,세계,신규,부처,대통령,법원,일감,진입,청산,배상,독촉,납품,정도,정부,수사,국민,혁신,확장,진출,시장,구상,생활,제기,민원,장애,발간,희망,발전,폐단,사회,국정,토호,고발,농단,권력,전직,아이디어,달러,개선,관심,소득,담합,자본,생산,업종,범죄,구제,단계,거래,신속,구별,최종,특허,대표적,허용,관행,악의,중앙,지방,주도,협업,달성,대표,카르텔,시대,기조,비용,문어,방해,분위기\n"
     ]
    }
   ],
   "source": [
    "for s in a:\n",
    "    try:\n",
    "        s.replace(',', ' ')\n",
    "    except AttributeError:\n",
    "        print(s)\n",
    "print(type(a[0]))\n",
    "print(a[0])"
   ]
  },
  {
   "cell_type": "code",
   "execution_count": 89,
   "metadata": {},
   "outputs": [],
   "source": [
    "v = TfidfVectorizer()\n",
    "matrix = v.fit_transform(a)\n",
    "arr = distance.toarray()"
   ]
  },
  {
   "cell_type": "code",
   "execution_count": 90,
   "metadata": {},
   "outputs": [],
   "source": [
    "def print_near_sentence(idx, cnt=10):\n",
    "    print(a[idx])\n",
    "    print('---------------------------------------------------------')\n",
    "    print(quote.loc[idx]['인용문'])\n",
    "    print('---------------------------------------------------------')\n",
    "\n",
    "    d = dict(zip(arr[idx], quote['인용문'].tolist()));\n",
    "\n",
    "    i = 0\n",
    "    for k in sorted(d.keys())[::-1]:\n",
    "        if i == cnt:\n",
    "            break\n",
    "        i += 1\n",
    "        print(k, ': ', d[k])"
   ]
  },
  {
   "cell_type": "code",
   "execution_count": 97,
   "metadata": {},
   "outputs": [
    {
     "name": "stdout",
     "output_type": "stream",
     "text": [
      "유치원,감정가,경기도,불법_재산,불법_재산_증여,이용료,학습장,비대위원장,유치원_체험학습장,감정가_43억,2015년_11월,재산,불법,주변,계약,체험,장소,사실,자녀,매입,증여\n",
      "---------------------------------------------------------\n",
      "지난 2015년 11월께 1988년생인 자녀 이모씨가 감정가 43억원의 경기도 땅을 매입했다 자녀에게 불법 재산 증여한 사실이 있느냐 이 장소가 3년간 이 비대위원장의 유치원 체험학습장으로 계약됐다 이용료가 월 953만원인데 주변보다 2~3배 비싼 값\n",
      "---------------------------------------------------------\n",
      "1.0 :  지난 2015년 11월께 1988년생인 자녀 이모씨가 감정가 43억원의 경기도 땅을 매입했다 자녀에게 불법 재산 증여한 사실이 있느냐 이 장소가 3년간 이 비대위원장의 유치원 체험학습장으로 계약됐다 이용료가 월 953만원인데 주변보다 2~3배 비싼 값\n",
      "0.9015396971909689 :  학력의 인정여부를 떠나 소외계층에 대한 교육은 기본적인 복지차원에서 보장돼야 한다 이들이 교육을 받는데 어려움을 겪지 않도록 약관 개정을 통해 학력미인정 문해학교까지 교육용 전력 적용을 확대해야 한다\n",
      "0.435938469999102 :  조 연구원장이 지난 15일 사직서를 내고 성경룡 경제사회인문연구회 이사장에게 사직서를 냈다 이례적으로 (성 이사장이) 바로 사직서를 처리했다\n",
      "0.21346960079047006 :  최근 유치원 비위와 관련해 이를 근절해 달라는 국민적 요구가 높아지고 있지만, 제도적 보완이 필요한 부분이 있어 법 개정이 필수적인 상황 민주당 당론으로 추진한다면 조속한 법 통과가 가능할 것\n",
      "0.12309265194362842 :  울산교육청의 유치원 업무추진비 사용 실태를 보면 교사회의를 노래방에서 하고, 맥주도 마시고 껌, 커피, 담배, 숙취해소제를 업무추진비에서 샀다 원장 자택에 양문형 냉장고를 구입하고, 업무추진비를 월급처럼 주면 안 되는데 원장이나 행정실장이 약 2년간 8백만원 넘는 돈을 수령하기도 했다\n",
      "0.09696008343033893 :  유치원 공공성 강화를 위한 대책을 논의했다 25일 당정청 협의회를 통해 국민께 소상히 보고 드리겠다 회계 투명성 강화 문제나 국공립 유치원 확대 문제 등을 어떻게 구체화할지 의견을 나눴다 추진이 된다면 굉장히 좋은 방안\n",
      "0.08623265605220452 :  유아 시기부터 과도한 가정형편에 따라 교육 격차가 발생하는 일이 없도록 대책이 필요하다 사교육을 받지 않아도 어린이집이나 유치원에서 아이들이 다양한 프로그램을 접할 수 있도록 해야 한다\n",
      "0.07760620200905144 :  입김이 막강한 한국유치원총연합회에 맞설 때는 걱정이 많았는데 이렇게 크게 응원해줄지 몰랐다 유치원 회계부정, 사학비리, 연구비 비리를 3대 목표로 정하고 본격적으로 자료를 모았다\n",
      "0.06916723531079438 :  유치원 공공성 강화를 위한 대책을 논의했고, 25일 당정청 협의회를 통해 국민께 소상히 보고드리겠다 회계 투명성 강화 문제나 국공립 유치원 확대 문제, 근본적이고 제도적인 대책 문제는 공감대가 있어 새삼 확인할 필요가 없고 어떻게 구체화할지 의견을 나눴다 약간의 오해가 있을 수 있고 반발이 있다고 하지만, 충분히 설득할 수 있고 받아들여질 것이라 본다 국민의 세금으로 사용되는 부분이 있어서 유치원 입장에서도 감당하고 감수해야 될 것으로 생각해 크게 걱정하지 않는다\n",
      "0.05828061830460462 :  지난 2013년~지난해 전국 17개 시 도교육청 감사결과 1천878개 사립유치원에서 5천951건의 비리가 적발됐다\n",
      "0.05453587240633158 :  예지재단에 보조금 지급 중단은 적절치 않다는 내부 검토에도 지급을 중단한 이유가 무엇이냐\n",
      "0.053285660263321544 :  2001년도에 민영화되지 않았어야 할 대한송유관공사가 민영화된 것이 원천적인 문제의 출발 공적으로 철저히 관리하거나 민영화했으면 안전 관리에 국가적 책임을 다했어야 한다\n",
      "0.04932615140233869 :  서울 인강학교, 교남학교 등 최근 특수학교 폭행사건이 잇따르면서 교실 내 CCTV를 설치에 대한 관심이 높은데 어떻게 생각하냐 교사들에 대한 인권침해 소지가 있어 고민 중\n",
      "0.04714796012924594 :  소송 위협에 굴하지 않고 유치원 비리 해결의 끝을 보겠다 학부모를 속이고 국회를 능멸한 행위에 대해 종합 국정감사 때 이 비대위원장에게 엄중하게 책임을 묻겠다\n",
      "0.04545702179818273 :  유치원 비리는 누군가 진실을 밝혀서 매듭을 지어야 한다\n"
     ]
    }
   ],
   "source": [
    "print_near_sentence(5, 15)\n",
    "# 20%가 적당한듯?"
   ]
  },
  {
   "cell_type": "code",
   "execution_count": null,
   "metadata": {},
   "outputs": [],
   "source": []
  },
  {
   "cell_type": "code",
   "execution_count": null,
   "metadata": {},
   "outputs": [],
   "source": []
  },
  {
   "cell_type": "code",
   "execution_count": null,
   "metadata": {},
   "outputs": [],
   "source": []
  }
 ],
 "metadata": {
  "kernelspec": {
   "display_name": "Workspace",
   "language": "python",
   "name": "workspace"
  },
  "language_info": {
   "codemirror_mode": {
    "name": "ipython",
    "version": 3
   },
   "file_extension": ".py",
   "mimetype": "text/x-python",
   "name": "python",
   "nbconvert_exporter": "python",
   "pygments_lexer": "ipython3",
   "version": "3.7.0"
  },
  "toc": {
   "base_numbering": 1,
   "nav_menu": {},
   "number_sections": true,
   "sideBar": true,
   "skip_h1_title": false,
   "title_cell": "Table of Contents",
   "title_sidebar": "Contents",
   "toc_cell": false,
   "toc_position": {},
   "toc_section_display": true,
   "toc_window_display": true
  }
 },
 "nbformat": 4,
 "nbformat_minor": 2
}
