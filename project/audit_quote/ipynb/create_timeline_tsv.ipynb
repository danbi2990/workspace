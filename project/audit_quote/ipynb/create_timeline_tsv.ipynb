{
 "cells": [
  {
   "cell_type": "code",
   "execution_count": 6,
   "metadata": {},
   "outputs": [],
   "source": [
    "import os\n",
    "from functools import reduce\n",
    "from collections import OrderedDict, defaultdict\n",
    "\n",
    "import requests\n",
    "from requests.exceptions import ConnectionError, ReadTimeout\n",
    "from requests.exceptions import ContentDecodingError, TooManyRedirects\n",
    "import pandas as pd\n",
    "\n",
    "from db.mongo import MyMongo\n",
    "\n",
    "pd.set_option('display.max_colwidth', -1)"
   ]
  },
  {
   "cell_type": "code",
   "execution_count": 7,
   "metadata": {},
   "outputs": [
    {
     "name": "stdout",
     "output_type": "stream",
     "text": [
      "<--Mongo Connected.\n",
      "Mongo Connection Closed.-->\n"
     ]
    }
   ],
   "source": [
    "with MyMongo() as db:\n",
    "    df_top5 = db.get_df_from_table('audit_quote', 'top_5_quote_per_day')"
   ]
  },
  {
   "cell_type": "code",
   "execution_count": 10,
   "metadata": {},
   "outputs": [],
   "source": [
    "def div_center(s):\n",
    "    return f'<div style=\"text-align:center\">{s}</div>'\n",
    "\n",
    "def br_n(n):\n",
    "    return '<br>'*n\n",
    "\n",
    "def a_link(s, href):\n",
    "    return f'<a href={href}>{s}</a>'\n",
    "\n",
    "def span_underline(s):\n",
    "    return f'<u>{s}</u>'\n",
    "\n",
    "def parse_date(date):\n",
    "    return date[:4] + '\\t' + date[4:6] + '\\t' + date[6:8].lstrip('0') + '\\t\\t'\n",
    "\n",
    "def display_date(date):\n",
    "    date = date[:4] + '년 ' + date[4:6] + '월 ' + date[6:8].lstrip('0') + '일'\n",
    "    return div_center(date) + '\\t\\t'\n",
    "\n",
    "def quote_count(n):\n",
    "    return f' ({n}회)'\n",
    "\n",
    "def quote_source(c):\n",
    "    return f' ({c})'\n",
    "\n",
    "def add_period(s):\n",
    "    return s + '.' if s[-1] != '.' else s       "
   ]
  },
  {
   "cell_type": "code",
   "execution_count": 12,
   "metadata": {},
   "outputs": [],
   "source": [
    "d = defaultdict(list)\n",
    "for i, row in df_top5.iterrows():\n",
    "    date = row['날짜']\n",
    "    d[date].append(row)\n",
    "result = ''\n",
    "\n",
    "for date, row_list in d.items():\n",
    "    result += parse_date(date)\n",
    "    result += parse_date(date)\n",
    "    result += br_n(1) + display_date(date)\n",
    "    body = ''\n",
    "    for row in row_list:\n",
    "        name = row['국회의원']\n",
    "        said = add_period(row['인용문'])\n",
    "        company = row['언론사']\n",
    "        href = row['url_hankyung']\n",
    "        cnt = quote_count(row['인용 횟수'])\n",
    "        source = quote_source(company)\n",
    "        if company == '한국경제':\n",
    "            said = span_underline(a_link(said, href))\n",
    "        body += name + cnt + br_n(1) + said + source + br_n(2)\n",
    "    result += body\n",
    "    result += '\\n'\n",
    "\n",
    "result\n",
    "\n",
    "data_dir = '/Users/jake/OneDrive - leverage innovative users/Documents/News_Item/Audit_quote/'\n",
    "file = 'result.tsv'\n",
    "\n",
    "with open(os.path.join(data_dir, file), 'w') as f:\n",
    "    f.write(result)\n",
    "\n",
    "# result.to_csv(os.path.join(data_dir, file), sep='\\t', index=False)"
   ]
  },
  {
   "cell_type": "code",
   "execution_count": null,
   "metadata": {},
   "outputs": [],
   "source": []
  },
  {
   "cell_type": "code",
   "execution_count": null,
   "metadata": {},
   "outputs": [],
   "source": []
  },
  {
   "cell_type": "code",
   "execution_count": null,
   "metadata": {},
   "outputs": [],
   "source": []
  }
 ],
 "metadata": {
  "kernelspec": {
   "display_name": "Workspace",
   "language": "python",
   "name": "workspace"
  },
  "language_info": {
   "codemirror_mode": {
    "name": "ipython",
    "version": 3
   },
   "file_extension": ".py",
   "mimetype": "text/x-python",
   "name": "python",
   "nbconvert_exporter": "python",
   "pygments_lexer": "ipython3",
   "version": "3.7.0"
  },
  "toc": {
   "base_numbering": 1,
   "nav_menu": {},
   "number_sections": true,
   "sideBar": true,
   "skip_h1_title": false,
   "title_cell": "Table of Contents",
   "title_sidebar": "Contents",
   "toc_cell": false,
   "toc_position": {
    "height": "calc(100% - 180px)",
    "left": "10px",
    "top": "150px",
    "width": "204.261px"
   },
   "toc_section_display": true,
   "toc_window_display": true
  }
 },
 "nbformat": 4,
 "nbformat_minor": 2
}
